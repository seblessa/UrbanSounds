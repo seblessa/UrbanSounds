{
 "cells": [
  {
   "cell_type": "markdown",
   "source": [
    "# Imports"
   ],
   "metadata": {
    "collapsed": false
   },
   "id": "869bfaa48bc07b43"
  },
  {
   "cell_type": "code",
   "execution_count": 139,
   "id": "initial_id",
   "metadata": {
    "collapsed": true,
    "ExecuteTime": {
     "end_time": "2023-11-25T17:33:13.116854Z",
     "start_time": "2023-11-25T17:33:12.585719Z"
    }
   },
   "outputs": [],
   "source": [
    "import pandas as pd\n",
    "import numpy as np\n",
    "import re\n",
    "from imblearn.over_sampling import SMOTE\n",
    "from sklearn.model_selection import train_test_split\n",
    "from sklearn.neural_network import MLPClassifier\n",
    "from sklearn.preprocessing import StandardScaler\n",
    "from sklearn.metrics import accuracy_score\n",
    "import matplotlib.pyplot as plt\n"
   ]
  },
  {
   "cell_type": "markdown",
   "source": [
    "# Input de DataSet"
   ],
   "metadata": {
    "collapsed": false
   },
   "id": "2c4c1db19cb01c9b"
  },
  {
   "cell_type": "code",
   "execution_count": 140,
   "outputs": [
    {
     "data": {
      "text/plain": "      chroma_stft  chroma_cqt  chroma_cens  melspectogram       rms  \\\n0        0.494262    0.568759     0.267266       3.465249  0.068657   \n1        0.422076    0.556903     0.270826       3.132792  0.076706   \n2        0.575613    0.606710     0.275953       2.257988  0.044251   \n3        0.175040    0.526637     0.258603       1.481219  0.043195   \n4        0.412279    0.608818     0.264944       0.806509  0.035636   \n...           ...         ...          ...            ...       ...   \n8727     0.479371    0.552483     0.266297       2.410669  0.127638   \n8728     0.545358    0.593931     0.273223       2.837043  0.130824   \n8729     0.436206    0.605989     0.275923       5.695730  0.190655   \n8730     0.524807    0.671077     0.277764       3.745609  0.153592   \n8731     0.538737    0.582093     0.271992       5.034693  0.175901   \n\n         centroid    bandwidth   contrast  flatness      rolloff  ...  \\\n0     2177.483658  3649.518344  19.685466  0.002088  4745.917969  ...   \n1     1623.980658  2897.277104  21.508354  0.001123  2743.891814  ...   \n2     2615.200756  4200.855657  18.001559  0.003370  6143.329229  ...   \n3     1223.789196  1367.391253  16.179755  0.583564  2473.821756  ...   \n4     1470.863386  2296.662162  12.349992  0.353831  3264.932914  ...   \n...           ...          ...        ...       ...          ...  ...   \n8727  2431.943128  2504.586835  16.611774  0.000412  4677.947945  ...   \n8728  1979.367181  2215.734460  16.131903  0.000247  3817.306386  ...   \n8729  2192.398026  2140.849300  17.080651  0.000198  4041.189283  ...   \n8730  2187.172172  2190.171430  16.642445  0.000244  4042.500000  ...   \n8731  1962.121130  2124.205226  16.116446  0.000228  3778.796281  ...   \n\n      mcffs_32  mcffs_33  mcffs_34  mcffs_35  mcffs_36  mcffs_37  mcffs_38  \\\n0    -2.700133 -0.350788 -0.123943 -0.308717  0.377525 -0.907509 -0.254973   \n1    -5.048006 -1.626652 -1.303208 -1.028367  0.470883 -2.959822 -1.439514   \n2    -1.015445  0.989107  1.142546  0.407650 -0.166601 -0.859933 -0.637618   \n3     2.447487 -1.956081  0.440909 -1.384400  0.585570 -0.601787 -0.864582   \n4     0.232175  0.326373  0.610677  0.570734  1.030308  0.507107  0.160745   \n...        ...       ...       ...       ...       ...       ...       ...   \n8727  0.199730 -0.839973 -4.665137 -0.551395  0.214190  0.865874  1.078110   \n8728  0.332412  2.602965 -0.238956  2.640356 -0.004591 -0.695137 -0.639137   \n8729  0.285693  1.105075 -2.979676  0.069636  0.038741  0.715938  2.593126   \n8730 -0.099813  0.535876 -0.444768  2.225560  1.202731 -1.514751  1.340369   \n8731  2.109410  0.105799 -3.077201  3.065105 -4.448371 -0.421964  1.611564   \n\n      mcffs_39  mcffs_40             Label  \n0    -1.738416 -1.207377  101415-3-0-2.wav  \n1    -2.282194 -1.155120  101415-3-0-3.wav  \n2    -1.657652 -1.639226  101415-3-0-8.wav  \n3    -0.896903 -0.161344  102106-3-0-0.wav  \n4     0.642600  0.364088  102305-6-0-0.wav  \n...        ...       ...               ...  \n8727 -3.648149  0.705190  99500-2-0-23.wav  \n8728 -2.883146  0.214829  99500-2-0-29.wav  \n8729 -2.714100  1.224722  99500-2-0-39.wav  \n8730 -0.692652  1.283734  99500-2-0-41.wav  \n8731 -1.729048  2.511954  99500-2-0-50.wav  \n\n[8732 rows x 54 columns]",
      "text/html": "<div>\n<style scoped>\n    .dataframe tbody tr th:only-of-type {\n        vertical-align: middle;\n    }\n\n    .dataframe tbody tr th {\n        vertical-align: top;\n    }\n\n    .dataframe thead th {\n        text-align: right;\n    }\n</style>\n<table border=\"1\" class=\"dataframe\">\n  <thead>\n    <tr style=\"text-align: right;\">\n      <th></th>\n      <th>chroma_stft</th>\n      <th>chroma_cqt</th>\n      <th>chroma_cens</th>\n      <th>melspectogram</th>\n      <th>rms</th>\n      <th>centroid</th>\n      <th>bandwidth</th>\n      <th>contrast</th>\n      <th>flatness</th>\n      <th>rolloff</th>\n      <th>...</th>\n      <th>mcffs_32</th>\n      <th>mcffs_33</th>\n      <th>mcffs_34</th>\n      <th>mcffs_35</th>\n      <th>mcffs_36</th>\n      <th>mcffs_37</th>\n      <th>mcffs_38</th>\n      <th>mcffs_39</th>\n      <th>mcffs_40</th>\n      <th>Label</th>\n    </tr>\n  </thead>\n  <tbody>\n    <tr>\n      <th>0</th>\n      <td>0.494262</td>\n      <td>0.568759</td>\n      <td>0.267266</td>\n      <td>3.465249</td>\n      <td>0.068657</td>\n      <td>2177.483658</td>\n      <td>3649.518344</td>\n      <td>19.685466</td>\n      <td>0.002088</td>\n      <td>4745.917969</td>\n      <td>...</td>\n      <td>-2.700133</td>\n      <td>-0.350788</td>\n      <td>-0.123943</td>\n      <td>-0.308717</td>\n      <td>0.377525</td>\n      <td>-0.907509</td>\n      <td>-0.254973</td>\n      <td>-1.738416</td>\n      <td>-1.207377</td>\n      <td>101415-3-0-2.wav</td>\n    </tr>\n    <tr>\n      <th>1</th>\n      <td>0.422076</td>\n      <td>0.556903</td>\n      <td>0.270826</td>\n      <td>3.132792</td>\n      <td>0.076706</td>\n      <td>1623.980658</td>\n      <td>2897.277104</td>\n      <td>21.508354</td>\n      <td>0.001123</td>\n      <td>2743.891814</td>\n      <td>...</td>\n      <td>-5.048006</td>\n      <td>-1.626652</td>\n      <td>-1.303208</td>\n      <td>-1.028367</td>\n      <td>0.470883</td>\n      <td>-2.959822</td>\n      <td>-1.439514</td>\n      <td>-2.282194</td>\n      <td>-1.155120</td>\n      <td>101415-3-0-3.wav</td>\n    </tr>\n    <tr>\n      <th>2</th>\n      <td>0.575613</td>\n      <td>0.606710</td>\n      <td>0.275953</td>\n      <td>2.257988</td>\n      <td>0.044251</td>\n      <td>2615.200756</td>\n      <td>4200.855657</td>\n      <td>18.001559</td>\n      <td>0.003370</td>\n      <td>6143.329229</td>\n      <td>...</td>\n      <td>-1.015445</td>\n      <td>0.989107</td>\n      <td>1.142546</td>\n      <td>0.407650</td>\n      <td>-0.166601</td>\n      <td>-0.859933</td>\n      <td>-0.637618</td>\n      <td>-1.657652</td>\n      <td>-1.639226</td>\n      <td>101415-3-0-8.wav</td>\n    </tr>\n    <tr>\n      <th>3</th>\n      <td>0.175040</td>\n      <td>0.526637</td>\n      <td>0.258603</td>\n      <td>1.481219</td>\n      <td>0.043195</td>\n      <td>1223.789196</td>\n      <td>1367.391253</td>\n      <td>16.179755</td>\n      <td>0.583564</td>\n      <td>2473.821756</td>\n      <td>...</td>\n      <td>2.447487</td>\n      <td>-1.956081</td>\n      <td>0.440909</td>\n      <td>-1.384400</td>\n      <td>0.585570</td>\n      <td>-0.601787</td>\n      <td>-0.864582</td>\n      <td>-0.896903</td>\n      <td>-0.161344</td>\n      <td>102106-3-0-0.wav</td>\n    </tr>\n    <tr>\n      <th>4</th>\n      <td>0.412279</td>\n      <td>0.608818</td>\n      <td>0.264944</td>\n      <td>0.806509</td>\n      <td>0.035636</td>\n      <td>1470.863386</td>\n      <td>2296.662162</td>\n      <td>12.349992</td>\n      <td>0.353831</td>\n      <td>3264.932914</td>\n      <td>...</td>\n      <td>0.232175</td>\n      <td>0.326373</td>\n      <td>0.610677</td>\n      <td>0.570734</td>\n      <td>1.030308</td>\n      <td>0.507107</td>\n      <td>0.160745</td>\n      <td>0.642600</td>\n      <td>0.364088</td>\n      <td>102305-6-0-0.wav</td>\n    </tr>\n    <tr>\n      <th>...</th>\n      <td>...</td>\n      <td>...</td>\n      <td>...</td>\n      <td>...</td>\n      <td>...</td>\n      <td>...</td>\n      <td>...</td>\n      <td>...</td>\n      <td>...</td>\n      <td>...</td>\n      <td>...</td>\n      <td>...</td>\n      <td>...</td>\n      <td>...</td>\n      <td>...</td>\n      <td>...</td>\n      <td>...</td>\n      <td>...</td>\n      <td>...</td>\n      <td>...</td>\n      <td>...</td>\n    </tr>\n    <tr>\n      <th>8727</th>\n      <td>0.479371</td>\n      <td>0.552483</td>\n      <td>0.266297</td>\n      <td>2.410669</td>\n      <td>0.127638</td>\n      <td>2431.943128</td>\n      <td>2504.586835</td>\n      <td>16.611774</td>\n      <td>0.000412</td>\n      <td>4677.947945</td>\n      <td>...</td>\n      <td>0.199730</td>\n      <td>-0.839973</td>\n      <td>-4.665137</td>\n      <td>-0.551395</td>\n      <td>0.214190</td>\n      <td>0.865874</td>\n      <td>1.078110</td>\n      <td>-3.648149</td>\n      <td>0.705190</td>\n      <td>99500-2-0-23.wav</td>\n    </tr>\n    <tr>\n      <th>8728</th>\n      <td>0.545358</td>\n      <td>0.593931</td>\n      <td>0.273223</td>\n      <td>2.837043</td>\n      <td>0.130824</td>\n      <td>1979.367181</td>\n      <td>2215.734460</td>\n      <td>16.131903</td>\n      <td>0.000247</td>\n      <td>3817.306386</td>\n      <td>...</td>\n      <td>0.332412</td>\n      <td>2.602965</td>\n      <td>-0.238956</td>\n      <td>2.640356</td>\n      <td>-0.004591</td>\n      <td>-0.695137</td>\n      <td>-0.639137</td>\n      <td>-2.883146</td>\n      <td>0.214829</td>\n      <td>99500-2-0-29.wav</td>\n    </tr>\n    <tr>\n      <th>8729</th>\n      <td>0.436206</td>\n      <td>0.605989</td>\n      <td>0.275923</td>\n      <td>5.695730</td>\n      <td>0.190655</td>\n      <td>2192.398026</td>\n      <td>2140.849300</td>\n      <td>17.080651</td>\n      <td>0.000198</td>\n      <td>4041.189283</td>\n      <td>...</td>\n      <td>0.285693</td>\n      <td>1.105075</td>\n      <td>-2.979676</td>\n      <td>0.069636</td>\n      <td>0.038741</td>\n      <td>0.715938</td>\n      <td>2.593126</td>\n      <td>-2.714100</td>\n      <td>1.224722</td>\n      <td>99500-2-0-39.wav</td>\n    </tr>\n    <tr>\n      <th>8730</th>\n      <td>0.524807</td>\n      <td>0.671077</td>\n      <td>0.277764</td>\n      <td>3.745609</td>\n      <td>0.153592</td>\n      <td>2187.172172</td>\n      <td>2190.171430</td>\n      <td>16.642445</td>\n      <td>0.000244</td>\n      <td>4042.500000</td>\n      <td>...</td>\n      <td>-0.099813</td>\n      <td>0.535876</td>\n      <td>-0.444768</td>\n      <td>2.225560</td>\n      <td>1.202731</td>\n      <td>-1.514751</td>\n      <td>1.340369</td>\n      <td>-0.692652</td>\n      <td>1.283734</td>\n      <td>99500-2-0-41.wav</td>\n    </tr>\n    <tr>\n      <th>8731</th>\n      <td>0.538737</td>\n      <td>0.582093</td>\n      <td>0.271992</td>\n      <td>5.034693</td>\n      <td>0.175901</td>\n      <td>1962.121130</td>\n      <td>2124.205226</td>\n      <td>16.116446</td>\n      <td>0.000228</td>\n      <td>3778.796281</td>\n      <td>...</td>\n      <td>2.109410</td>\n      <td>0.105799</td>\n      <td>-3.077201</td>\n      <td>3.065105</td>\n      <td>-4.448371</td>\n      <td>-0.421964</td>\n      <td>1.611564</td>\n      <td>-1.729048</td>\n      <td>2.511954</td>\n      <td>99500-2-0-50.wav</td>\n    </tr>\n  </tbody>\n</table>\n<p>8732 rows × 54 columns</p>\n</div>"
     },
     "execution_count": 140,
     "metadata": {},
     "output_type": "execute_result"
    }
   ],
   "source": [
    "df = pd.read_csv('urbansounds_features.csv')\n",
    "df"
   ],
   "metadata": {
    "collapsed": false,
    "ExecuteTime": {
     "end_time": "2023-11-25T17:33:13.305647Z",
     "start_time": "2023-11-25T17:33:13.118344Z"
    }
   },
   "id": "8b44e345a051e112"
  },
  {
   "cell_type": "markdown",
   "source": [
    "Clean the DataSet"
   ],
   "metadata": {
    "collapsed": false
   },
   "id": "d210a4e9b159b459"
  },
  {
   "cell_type": "code",
   "execution_count": 141,
   "outputs": [],
   "source": [
    "def calculate_mean_from_string(string):\n",
    "    cleaned_string = string.replace('\\n', '')\n",
    "    numbers = re.findall(r\"[-+]?\\d*\\.\\d+|\\d+\", cleaned_string)\n",
    "    array = np.array(numbers, dtype=float)\n",
    "    mean_value = np.mean(array)\n",
    "    return mean_value"
   ],
   "metadata": {
    "collapsed": false,
    "ExecuteTime": {
     "end_time": "2023-11-25T17:33:13.524988Z",
     "start_time": "2023-11-25T17:33:13.456080Z"
    }
   },
   "id": "8c658efd7620a805"
  },
  {
   "cell_type": "code",
   "execution_count": 142,
   "outputs": [
    {
     "data": {
      "text/plain": "      chroma_stft  chroma_cqt  chroma_cens  melspectogram       rms  \\\n0        0.494262    0.568759     0.267266       3.465249  0.068657   \n1        0.422076    0.556903     0.270826       3.132792  0.076706   \n2        0.575613    0.606710     0.275953       2.257988  0.044251   \n3        0.175040    0.526637     0.258603       1.481219  0.043195   \n4        0.412279    0.608818     0.264944       0.806509  0.035636   \n...           ...         ...          ...            ...       ...   \n8727     0.479371    0.552483     0.266297       2.410669  0.127638   \n8728     0.545358    0.593931     0.273223       2.837043  0.130824   \n8729     0.436206    0.605989     0.275923       5.695730  0.190655   \n8730     0.524807    0.671077     0.277764       3.745609  0.153592   \n8731     0.538737    0.582093     0.271992       5.034693  0.175901   \n\n         centroid    bandwidth   contrast  flatness      rolloff  ...  \\\n0     2177.483658  3649.518344  19.685466  0.002088  4745.917969  ...   \n1     1623.980658  2897.277104  21.508354  0.001123  2743.891814  ...   \n2     2615.200756  4200.855657  18.001559  0.003370  6143.329229  ...   \n3     1223.789196  1367.391253  16.179755  0.583564  2473.821756  ...   \n4     1470.863386  2296.662162  12.349992  0.353831  3264.932914  ...   \n...           ...          ...        ...       ...          ...  ...   \n8727  2431.943128  2504.586835  16.611774  0.000412  4677.947945  ...   \n8728  1979.367181  2215.734460  16.131903  0.000247  3817.306386  ...   \n8729  2192.398026  2140.849300  17.080651  0.000198  4041.189283  ...   \n8730  2187.172172  2190.171430  16.642445  0.000244  4042.500000  ...   \n8731  1962.121130  2124.205226  16.116446  0.000228  3778.796281  ...   \n\n      mcffs_32  mcffs_33  mcffs_34  mcffs_35  mcffs_36  mcffs_37  mcffs_38  \\\n0    -2.700133 -0.350788 -0.123943 -0.308717  0.377525 -0.907509 -0.254973   \n1    -5.048006 -1.626652 -1.303208 -1.028367  0.470883 -2.959822 -1.439514   \n2    -1.015445  0.989107  1.142546  0.407650 -0.166601 -0.859933 -0.637618   \n3     2.447487 -1.956081  0.440909 -1.384400  0.585570 -0.601787 -0.864582   \n4     0.232175  0.326373  0.610677  0.570734  1.030308  0.507107  0.160745   \n...        ...       ...       ...       ...       ...       ...       ...   \n8727  0.199730 -0.839973 -4.665137 -0.551395  0.214190  0.865874  1.078110   \n8728  0.332412  2.602965 -0.238956  2.640356 -0.004591 -0.695137 -0.639137   \n8729  0.285693  1.105075 -2.979676  0.069636  0.038741  0.715938  2.593126   \n8730 -0.099813  0.535876 -0.444768  2.225560  1.202731 -1.514751  1.340369   \n8731  2.109410  0.105799 -3.077201  3.065105 -4.448371 -0.421964  1.611564   \n\n      mcffs_39  mcffs_40  Label  \n0    -1.738416 -1.207377      3  \n1    -2.282194 -1.155120      3  \n2    -1.657652 -1.639226      3  \n3    -0.896903 -0.161344      3  \n4     0.642600  0.364088      6  \n...        ...       ...    ...  \n8727 -3.648149  0.705190      2  \n8728 -2.883146  0.214829      2  \n8729 -2.714100  1.224722      2  \n8730 -0.692652  1.283734      2  \n8731 -1.729048  2.511954      2  \n\n[8732 rows x 54 columns]",
      "text/html": "<div>\n<style scoped>\n    .dataframe tbody tr th:only-of-type {\n        vertical-align: middle;\n    }\n\n    .dataframe tbody tr th {\n        vertical-align: top;\n    }\n\n    .dataframe thead th {\n        text-align: right;\n    }\n</style>\n<table border=\"1\" class=\"dataframe\">\n  <thead>\n    <tr style=\"text-align: right;\">\n      <th></th>\n      <th>chroma_stft</th>\n      <th>chroma_cqt</th>\n      <th>chroma_cens</th>\n      <th>melspectogram</th>\n      <th>rms</th>\n      <th>centroid</th>\n      <th>bandwidth</th>\n      <th>contrast</th>\n      <th>flatness</th>\n      <th>rolloff</th>\n      <th>...</th>\n      <th>mcffs_32</th>\n      <th>mcffs_33</th>\n      <th>mcffs_34</th>\n      <th>mcffs_35</th>\n      <th>mcffs_36</th>\n      <th>mcffs_37</th>\n      <th>mcffs_38</th>\n      <th>mcffs_39</th>\n      <th>mcffs_40</th>\n      <th>Label</th>\n    </tr>\n  </thead>\n  <tbody>\n    <tr>\n      <th>0</th>\n      <td>0.494262</td>\n      <td>0.568759</td>\n      <td>0.267266</td>\n      <td>3.465249</td>\n      <td>0.068657</td>\n      <td>2177.483658</td>\n      <td>3649.518344</td>\n      <td>19.685466</td>\n      <td>0.002088</td>\n      <td>4745.917969</td>\n      <td>...</td>\n      <td>-2.700133</td>\n      <td>-0.350788</td>\n      <td>-0.123943</td>\n      <td>-0.308717</td>\n      <td>0.377525</td>\n      <td>-0.907509</td>\n      <td>-0.254973</td>\n      <td>-1.738416</td>\n      <td>-1.207377</td>\n      <td>3</td>\n    </tr>\n    <tr>\n      <th>1</th>\n      <td>0.422076</td>\n      <td>0.556903</td>\n      <td>0.270826</td>\n      <td>3.132792</td>\n      <td>0.076706</td>\n      <td>1623.980658</td>\n      <td>2897.277104</td>\n      <td>21.508354</td>\n      <td>0.001123</td>\n      <td>2743.891814</td>\n      <td>...</td>\n      <td>-5.048006</td>\n      <td>-1.626652</td>\n      <td>-1.303208</td>\n      <td>-1.028367</td>\n      <td>0.470883</td>\n      <td>-2.959822</td>\n      <td>-1.439514</td>\n      <td>-2.282194</td>\n      <td>-1.155120</td>\n      <td>3</td>\n    </tr>\n    <tr>\n      <th>2</th>\n      <td>0.575613</td>\n      <td>0.606710</td>\n      <td>0.275953</td>\n      <td>2.257988</td>\n      <td>0.044251</td>\n      <td>2615.200756</td>\n      <td>4200.855657</td>\n      <td>18.001559</td>\n      <td>0.003370</td>\n      <td>6143.329229</td>\n      <td>...</td>\n      <td>-1.015445</td>\n      <td>0.989107</td>\n      <td>1.142546</td>\n      <td>0.407650</td>\n      <td>-0.166601</td>\n      <td>-0.859933</td>\n      <td>-0.637618</td>\n      <td>-1.657652</td>\n      <td>-1.639226</td>\n      <td>3</td>\n    </tr>\n    <tr>\n      <th>3</th>\n      <td>0.175040</td>\n      <td>0.526637</td>\n      <td>0.258603</td>\n      <td>1.481219</td>\n      <td>0.043195</td>\n      <td>1223.789196</td>\n      <td>1367.391253</td>\n      <td>16.179755</td>\n      <td>0.583564</td>\n      <td>2473.821756</td>\n      <td>...</td>\n      <td>2.447487</td>\n      <td>-1.956081</td>\n      <td>0.440909</td>\n      <td>-1.384400</td>\n      <td>0.585570</td>\n      <td>-0.601787</td>\n      <td>-0.864582</td>\n      <td>-0.896903</td>\n      <td>-0.161344</td>\n      <td>3</td>\n    </tr>\n    <tr>\n      <th>4</th>\n      <td>0.412279</td>\n      <td>0.608818</td>\n      <td>0.264944</td>\n      <td>0.806509</td>\n      <td>0.035636</td>\n      <td>1470.863386</td>\n      <td>2296.662162</td>\n      <td>12.349992</td>\n      <td>0.353831</td>\n      <td>3264.932914</td>\n      <td>...</td>\n      <td>0.232175</td>\n      <td>0.326373</td>\n      <td>0.610677</td>\n      <td>0.570734</td>\n      <td>1.030308</td>\n      <td>0.507107</td>\n      <td>0.160745</td>\n      <td>0.642600</td>\n      <td>0.364088</td>\n      <td>6</td>\n    </tr>\n    <tr>\n      <th>...</th>\n      <td>...</td>\n      <td>...</td>\n      <td>...</td>\n      <td>...</td>\n      <td>...</td>\n      <td>...</td>\n      <td>...</td>\n      <td>...</td>\n      <td>...</td>\n      <td>...</td>\n      <td>...</td>\n      <td>...</td>\n      <td>...</td>\n      <td>...</td>\n      <td>...</td>\n      <td>...</td>\n      <td>...</td>\n      <td>...</td>\n      <td>...</td>\n      <td>...</td>\n      <td>...</td>\n    </tr>\n    <tr>\n      <th>8727</th>\n      <td>0.479371</td>\n      <td>0.552483</td>\n      <td>0.266297</td>\n      <td>2.410669</td>\n      <td>0.127638</td>\n      <td>2431.943128</td>\n      <td>2504.586835</td>\n      <td>16.611774</td>\n      <td>0.000412</td>\n      <td>4677.947945</td>\n      <td>...</td>\n      <td>0.199730</td>\n      <td>-0.839973</td>\n      <td>-4.665137</td>\n      <td>-0.551395</td>\n      <td>0.214190</td>\n      <td>0.865874</td>\n      <td>1.078110</td>\n      <td>-3.648149</td>\n      <td>0.705190</td>\n      <td>2</td>\n    </tr>\n    <tr>\n      <th>8728</th>\n      <td>0.545358</td>\n      <td>0.593931</td>\n      <td>0.273223</td>\n      <td>2.837043</td>\n      <td>0.130824</td>\n      <td>1979.367181</td>\n      <td>2215.734460</td>\n      <td>16.131903</td>\n      <td>0.000247</td>\n      <td>3817.306386</td>\n      <td>...</td>\n      <td>0.332412</td>\n      <td>2.602965</td>\n      <td>-0.238956</td>\n      <td>2.640356</td>\n      <td>-0.004591</td>\n      <td>-0.695137</td>\n      <td>-0.639137</td>\n      <td>-2.883146</td>\n      <td>0.214829</td>\n      <td>2</td>\n    </tr>\n    <tr>\n      <th>8729</th>\n      <td>0.436206</td>\n      <td>0.605989</td>\n      <td>0.275923</td>\n      <td>5.695730</td>\n      <td>0.190655</td>\n      <td>2192.398026</td>\n      <td>2140.849300</td>\n      <td>17.080651</td>\n      <td>0.000198</td>\n      <td>4041.189283</td>\n      <td>...</td>\n      <td>0.285693</td>\n      <td>1.105075</td>\n      <td>-2.979676</td>\n      <td>0.069636</td>\n      <td>0.038741</td>\n      <td>0.715938</td>\n      <td>2.593126</td>\n      <td>-2.714100</td>\n      <td>1.224722</td>\n      <td>2</td>\n    </tr>\n    <tr>\n      <th>8730</th>\n      <td>0.524807</td>\n      <td>0.671077</td>\n      <td>0.277764</td>\n      <td>3.745609</td>\n      <td>0.153592</td>\n      <td>2187.172172</td>\n      <td>2190.171430</td>\n      <td>16.642445</td>\n      <td>0.000244</td>\n      <td>4042.500000</td>\n      <td>...</td>\n      <td>-0.099813</td>\n      <td>0.535876</td>\n      <td>-0.444768</td>\n      <td>2.225560</td>\n      <td>1.202731</td>\n      <td>-1.514751</td>\n      <td>1.340369</td>\n      <td>-0.692652</td>\n      <td>1.283734</td>\n      <td>2</td>\n    </tr>\n    <tr>\n      <th>8731</th>\n      <td>0.538737</td>\n      <td>0.582093</td>\n      <td>0.271992</td>\n      <td>5.034693</td>\n      <td>0.175901</td>\n      <td>1962.121130</td>\n      <td>2124.205226</td>\n      <td>16.116446</td>\n      <td>0.000228</td>\n      <td>3778.796281</td>\n      <td>...</td>\n      <td>2.109410</td>\n      <td>0.105799</td>\n      <td>-3.077201</td>\n      <td>3.065105</td>\n      <td>-4.448371</td>\n      <td>-0.421964</td>\n      <td>1.611564</td>\n      <td>-1.729048</td>\n      <td>2.511954</td>\n      <td>2</td>\n    </tr>\n  </tbody>\n</table>\n<p>8732 rows × 54 columns</p>\n</div>"
     },
     "execution_count": 142,
     "metadata": {},
     "output_type": "execute_result"
    }
   ],
   "source": [
    "df['tempogram'] = df['tempogram'].apply(calculate_mean_from_string)\n",
    "df['fourier_tempogram'] = df['fourier_tempogram'].apply(calculate_mean_from_string)\n",
    "df['Label'] = df['Label'].str.split('-').str[1]\n",
    "df"
   ],
   "metadata": {
    "collapsed": false,
    "ExecuteTime": {
     "end_time": "2023-11-25T17:33:14.150923Z",
     "start_time": "2023-11-25T17:33:13.654197Z"
    }
   },
   "id": "9f5fcf8e7522bca0"
  },
  {
   "cell_type": "markdown",
   "source": [
    "# Classification"
   ],
   "metadata": {
    "collapsed": false
   },
   "id": "59f1fbbc0b0e99c3"
  },
  {
   "cell_type": "code",
   "execution_count": 144,
   "outputs": [],
   "source": [
    "# Assuming your target column is named 'label', and features are the rest of the columns\n",
    "X = df.drop('Label', axis=1)  # Assuming 'your_column_name' contains arrays\n",
    "y = df['Label']"
   ],
   "metadata": {
    "collapsed": false,
    "ExecuteTime": {
     "end_time": "2023-11-25T17:33:14.258282Z",
     "start_time": "2023-11-25T17:33:14.240537Z"
    }
   },
   "id": "fcfb5f2eeb5f213e"
  },
  {
   "cell_type": "code",
   "execution_count": 145,
   "outputs": [],
   "source": [
    "# Split the data into training and testing sets\n",
    "X_train, X_test, y_train, y_test = train_test_split(X, y, test_size=0.2, random_state=42)"
   ],
   "metadata": {
    "collapsed": false,
    "ExecuteTime": {
     "end_time": "2023-11-25T17:33:14.379473Z",
     "start_time": "2023-11-25T17:33:14.357055Z"
    }
   },
   "id": "1c00d2acc9c38954"
  },
  {
   "cell_type": "code",
   "execution_count": 150,
   "outputs": [
    {
     "name": "stdout",
     "output_type": "stream",
     "text": [
      "Class distribution before SMOTE:\n",
      "Label\n",
      "9    811\n",
      "5    807\n",
      "2    803\n",
      "4    798\n",
      "7    791\n",
      "0    789\n",
      "3    783\n",
      "8    749\n",
      "1    352\n",
      "6    302\n",
      "Name: count, dtype: int64\n"
     ]
    }
   ],
   "source": [
    "# Print class distribution before SMOTE\n",
    "print(\"Class distribution before SMOTE:\")\n",
    "print(pd.Series(y_train).value_counts())"
   ],
   "metadata": {
    "collapsed": false,
    "ExecuteTime": {
     "end_time": "2023-11-25T17:34:56.558150Z",
     "start_time": "2023-11-25T17:34:56.552905Z"
    }
   },
   "id": "d8ee78942310ed5a"
  },
  {
   "cell_type": "code",
   "execution_count": 146,
   "outputs": [],
   "source": [
    "# Oversample the features values using SMOTE\n",
    "smote = SMOTE(random_state=42)\n",
    "X_train_resampled, y_train_resampled = smote.fit_resample(X_train, y_train)"
   ],
   "metadata": {
    "collapsed": false,
    "ExecuteTime": {
     "end_time": "2023-11-25T17:33:16.394039Z",
     "start_time": "2023-11-25T17:33:16.106266Z"
    }
   },
   "id": "653d109c83f8f4a9"
  },
  {
   "cell_type": "code",
   "execution_count": 148,
   "outputs": [
    {
     "name": "stdout",
     "output_type": "stream",
     "text": [
      "\n",
      "Class distribution after SMOTE:\n",
      "Label\n",
      "2    811\n",
      "9    811\n",
      "5    811\n",
      "1    811\n",
      "7    811\n",
      "0    811\n",
      "8    811\n",
      "4    811\n",
      "6    811\n",
      "3    811\n",
      "Name: count, dtype: int64\n"
     ]
    }
   ],
   "source": [
    "# Print class distribution after SMOTE\n",
    "print(\"\\nClass distribution after SMOTE:\")\n",
    "print(pd.Series(y_train_resampled).value_counts())"
   ],
   "metadata": {
    "collapsed": false,
    "ExecuteTime": {
     "end_time": "2023-11-25T17:33:56.385835Z",
     "start_time": "2023-11-25T17:33:56.379058Z"
    }
   },
   "id": "7abda0c74061ad7f"
  },
  {
   "cell_type": "code",
   "execution_count": 151,
   "outputs": [],
   "source": [
    "# Standardize the feature values\n",
    "scaler = StandardScaler()\n",
    "X_train_scaled = scaler.fit_transform(X_train_resampled)\n",
    "X_test_scaled = scaler.transform(X_test)"
   ],
   "metadata": {
    "collapsed": false,
    "ExecuteTime": {
     "end_time": "2023-11-25T17:36:11.872324Z",
     "start_time": "2023-11-25T17:36:11.851482Z"
    }
   },
   "id": "1787e79f125e4930"
  },
  {
   "cell_type": "code",
   "execution_count": 154,
   "outputs": [],
   "source": [
    "# Create an MLP classifier\n",
    "mlp_classifier = MLPClassifier(hidden_layer_sizes=(100, 50), max_iter=1000, random_state=42)\n",
    "mlp_classifier.fit(X_train_scaled, y_train_resampled)\n",
    "y_pred = mlp_classifier.predict(X_test_scaled)"
   ],
   "metadata": {
    "collapsed": false,
    "ExecuteTime": {
     "end_time": "2023-11-25T17:41:07.934811Z",
     "start_time": "2023-11-25T17:40:55.165981Z"
    }
   },
   "id": "cd6c936ae202ca0"
  },
  {
   "cell_type": "code",
   "execution_count": 155,
   "outputs": [
    {
     "name": "stdout",
     "output_type": "stream",
     "text": [
      "Accuracy: 0.9284487693188322\n"
     ]
    }
   ],
   "source": [
    "# Evaluate the accuracy\n",
    "accuracy = accuracy_score(y_test, y_pred)\n",
    "print(f'Accuracy: {accuracy}')"
   ],
   "metadata": {
    "collapsed": false,
    "ExecuteTime": {
     "end_time": "2023-11-25T17:41:07.986227Z",
     "start_time": "2023-11-25T17:41:07.974793Z"
    }
   },
   "id": "4afec4bf4b8c7861"
  },
  {
   "cell_type": "code",
   "execution_count": null,
   "outputs": [],
   "source": [],
   "metadata": {
    "collapsed": false
   },
   "id": "a0eb7cdde95e2498"
  },
  {
   "cell_type": "code",
   "execution_count": null,
   "outputs": [],
   "source": [],
   "metadata": {
    "collapsed": false
   },
   "id": "56b217922bab83d0"
  },
  {
   "cell_type": "code",
   "execution_count": null,
   "outputs": [],
   "source": [],
   "metadata": {
    "collapsed": false
   },
   "id": "fe8a5dbe8b8bfdc4"
  },
  {
   "cell_type": "code",
   "execution_count": null,
   "outputs": [],
   "source": [],
   "metadata": {
    "collapsed": false
   },
   "id": "59f7bca0a2f66f64"
  }
 ],
 "metadata": {
  "kernelspec": {
   "display_name": "Python 3",
   "language": "python",
   "name": "python3"
  },
  "language_info": {
   "codemirror_mode": {
    "name": "ipython",
    "version": 2
   },
   "file_extension": ".py",
   "mimetype": "text/x-python",
   "name": "python",
   "nbconvert_exporter": "python",
   "pygments_lexer": "ipython2",
   "version": "2.7.6"
  }
 },
 "nbformat": 4,
 "nbformat_minor": 5
}
