{
 "cells": [
  {
   "cell_type": "markdown",
   "source": [
    "# Imports"
   ],
   "metadata": {
    "collapsed": false
   },
   "id": "869bfaa48bc07b43"
  },
  {
   "cell_type": "code",
   "execution_count": null,
   "id": "initial_id",
   "metadata": {
    "collapsed": true
   },
   "outputs": [],
   "source": [
    "import pandas as pd\n",
    "import numpy as np\n",
    "import re\n",
    "from imblearn.over_sampling import SMOTE\n",
    "from sklearn.neural_network import MLPClassifier\n",
    "from sklearn.preprocessing import StandardScaler\n",
    "from sklearn.model_selection import StratifiedKFold\n",
    "from sklearn.metrics import confusion_matrix\n",
    "import tensorflow as tf\n",
    "import matplotlib.pyplot as plt\n",
    "import seaborn as sns\n",
    "from tqdm import tqdm\n",
    "from sklearn.metrics import accuracy_score\n",
    "from itertools import product\n",
    "from sklearn.model_selection import train_test_split\n",
    "from sklearn.metrics import accuracy_score"
   ]
  },
  {
   "cell_type": "markdown",
   "source": [
    "# Input de DataSet"
   ],
   "metadata": {
    "collapsed": false
   },
   "id": "2c4c1db19cb01c9b"
  },
  {
   "cell_type": "code",
   "execution_count": null,
   "outputs": [],
   "source": [
    "datasets = [pd.read_csv(f'datasets/urbansounds_features_{i}.csv') for i in range(1, 11)]"
   ],
   "metadata": {
    "collapsed": false
   },
   "id": "8b44e345a051e112"
  },
  {
   "cell_type": "markdown",
   "source": [
    "Clean the DataSet"
   ],
   "metadata": {
    "collapsed": false
   },
   "id": "d210a4e9b159b459"
  },
  {
   "cell_type": "code",
   "execution_count": null,
   "outputs": [],
   "source": [
    "def calculate_mean_from_string(string):\n",
    "    cleaned_string = string.replace('\\n', '')\n",
    "    numbers = re.findall(r\"[-+]?\\d*\\.\\d+|\\d+\", cleaned_string)\n",
    "    array = np.array(numbers, dtype=float)\n",
    "    mean_value = np.mean(array)\n",
    "    return mean_value"
   ],
   "metadata": {
    "collapsed": false
   },
   "id": "8c658efd7620a805"
  },
  {
   "cell_type": "code",
   "execution_count": null,
   "outputs": [],
   "source": [
    "for df in datasets:\n",
    "    for column in df.columns:\n",
    "        if column != 'Label':\n",
    "            if df[column].dtype != float and df[column].dtype != int:\n",
    "                df[column] = df[column].apply(calculate_mean_from_string)\n",
    "        else:\n",
    "            df[column] = df[column].str.split('-').str[1].astype(int)"
   ],
   "metadata": {
    "collapsed": false
   },
   "id": "9f5fcf8e7522bca0"
  },
  {
   "cell_type": "code",
   "execution_count": null,
   "outputs": [],
   "source": [
    "def plot_learning_curve(history):\n",
    "    # Plot training & validation accuracy values\n",
    "    plt.plot(history.history['accuracy'])\n",
    "    plt.plot(history.history['val_accuracy'])\n",
    "    plt.title('Model accuracy')\n",
    "    plt.ylabel('Accuracy')\n",
    "    plt.xlabel('Epoch')\n",
    "    plt.legend(['Train', 'Validation'], loc='upper left')\n",
    "    plt.show()\n",
    "\n",
    "    # Plot training & validation loss values\n",
    "    plt.plot(history.history['loss'])\n",
    "    plt.plot(history.history['val_loss'])\n",
    "    plt.title('Model loss')\n",
    "    plt.ylabel('Loss')\n",
    "    plt.xlabel('Epoch')\n",
    "    plt.legend(['Train', 'Validation'], loc='upper left')\n",
    "    plt.show()\n"
   ],
   "metadata": {
    "collapsed": false
   },
   "id": "6322a653d6c8b60a"
  },
  {
   "cell_type": "code",
   "execution_count": null,
   "outputs": [],
   "source": [
    "def plot_confusion_matrix(y_true, y_pred, class_labels):\n",
    "    cm = confusion_matrix(y_true, y_pred)\n",
    "    plt.figure(figsize=(8, 6))\n",
    "    sns.heatmap(cm, annot=True, fmt='d', cmap='Blues', xticklabels=class_labels, yticklabels=class_labels)\n",
    "    plt.title('Confusion Matrix')\n",
    "    plt.xlabel('Predicted')\n",
    "    plt.ylabel('True')\n",
    "    plt.show()"
   ],
   "metadata": {
    "collapsed": false
   },
   "id": "a1df5926dab3ff08"
  },
  {
   "cell_type": "markdown",
   "source": [
    "# Classification"
   ],
   "metadata": {
    "collapsed": false
   },
   "id": "bb32b4a14805657e"
  },
  {
   "cell_type": "markdown",
   "source": [
    "## MLP"
   ],
   "metadata": {
    "collapsed": false
   },
   "id": "5aeea5011310e10b"
  },
  {
   "cell_type": "code",
   "execution_count": null,
   "outputs": [],
   "source": [
    "# MLP Hyperparameters\n",
    "hyperparameters_mlp = {\n",
    "    'input_neurons': None,  # To be determined dynamically\n",
    "    'output_neurons': 10,\n",
    "    'n_layers': 4,\n",
    "    'neurons_per_layer': [256, 128, 64, 32],\n",
    "    'dropout': 0.5,\n",
    "    'learning_rate': 0.0005,\n",
    "    'batch_size': 128,\n",
    "    'epochs': 20,\n",
    "    'regularizer': None,\n",
    "    'patience': 10\n",
    "}\n"
   ],
   "metadata": {
    "collapsed": false
   },
   "id": "42060448837aabe1"
  },
  {
   "cell_type": "code",
   "execution_count": null,
   "outputs": [],
   "source": [
    "hyperparameters = hyperparameters_mlp\n",
    "\n",
    "accuracies = []\n",
    "\n",
    "for fold in range(10):\n",
    "    test_data = datasets[fold]\n",
    "    test_labels = test_data['Label'].values\n",
    "    test_data = test_data.drop(columns=['Label']).values\n",
    "\n",
    "    train_datasets = datasets[:fold] + datasets[fold + 1:]\n",
    "\n",
    "    train_data = pd.concat(train_datasets)\n",
    "    train_labels = train_data['Label'].values\n",
    "    train_data = train_data.drop(columns=['Label']).values\n",
    "\n",
    "    smote = SMOTE(random_state=42)\n",
    "    scaler = StandardScaler()\n",
    "\n",
    "    train_data, train_labels = smote.fit_resample(train_data, train_labels)\n",
    "    train_data = scaler.fit_transform(train_data)\n",
    "\n",
    "    hyperparameters['input_neurons'] = train_data.shape[1]\n",
    "\n",
    "    model = tf.keras.Sequential()\n",
    "    \n",
    "    model.add(tf.keras.layers.Flatten(input_shape=(hyperparameters_mlp['input_neurons'],)))\n",
    "    \n",
    "    for neurons in hyperparameters_mlp['neurons_per_layer']:\n",
    "        model.add(tf.keras.layers.Dense(\n",
    "            neurons,\n",
    "            activation='relu',\n",
    "            kernel_regularizer=hyperparameters_mlp['regularizer']\n",
    "        ))\n",
    "        model.add(tf.keras.layers.Dropout(hyperparameters_mlp['dropout']))\n",
    "    \n",
    "    model.add(tf.keras.layers.Dense(hyperparameters_mlp['output_neurons'], activation='softmax'))\n",
    "    \n",
    "    model.compile(\n",
    "        optimizer=tf.keras.optimizers.legacy.Adam(learning_rate=hyperparameters_mlp['learning_rate']),\n",
    "        loss='sparse_categorical_crossentropy',\n",
    "        metrics=['accuracy']\n",
    "    )\n",
    "\n",
    "    early_stopping = tf.keras.callbacks.EarlyStopping(\n",
    "        monitor='val_loss',\n",
    "        patience=hyperparameters['patience'],\n",
    "        restore_best_weights=True\n",
    "    )\n",
    "\n",
    "    history = model.fit(\n",
    "        train_data, train_labels,\n",
    "        epochs=hyperparameters['epochs'],\n",
    "        batch_size=hyperparameters['batch_size'],\n",
    "        validation_split=0.2,\n",
    "        callbacks=[early_stopping],\n",
    "        verbose=0\n",
    "    )\n",
    "    #plot_learning_curve(history)\n",
    "\n",
    "\n",
    "    predictions = model.predict(test_data)\n",
    "    predicted_labels = np.argmax(predictions, axis=1)\n",
    "    #plot_confusion_matrix(test_labels, predicted_labels, class_labels=['0', '1', '2', '3','4', '5', '6', '7','8','9'])\n",
    "\n",
    "    accuracy = accuracy_score(test_labels, predicted_labels)\n",
    "    accuracies.append(accuracy)\n",
    "\n",
    "\n",
    "mean_accuracy = np.mean(accuracies)\n",
    "\n",
    "print(f\"Mean Accuracy across folds (MLP): {mean_accuracy}\")"
   ],
   "metadata": {
    "collapsed": false
   },
   "id": "2cb6cf45032ee813"
  },
  {
   "cell_type": "markdown",
   "source": [
    "## RNN"
   ],
   "metadata": {
    "collapsed": false
   },
   "id": "1ee96360b69b9021"
  },
  {
   "cell_type": "code",
   "execution_count": null,
   "outputs": [],
   "source": [
    "# RNN Hyperparameters\n",
    "hyperparameters_rnn = {\n",
    "    'input_neurons': None,  # To be determined dynamically\n",
    "    'output_neurons': 10,\n",
    "    'lstm_units': 64,\n",
    "    'dropout': 0.3,\n",
    "    'learning_rate': 0.0005,\n",
    "    'batch_size': 128,\n",
    "    'epochs': 20,\n",
    "    'regularizer': None,\n",
    "    'patience': 10\n",
    "}\n"
   ],
   "metadata": {
    "collapsed": false
   },
   "id": "2cf0307563ec6bd6"
  },
  {
   "cell_type": "code",
   "execution_count": null,
   "outputs": [],
   "source": [
    "hyperparameters = hyperparameters_rnn\n",
    "\n",
    "accuracies = []\n",
    "\n",
    "for fold in range(10):\n",
    "    test_data = datasets[fold]\n",
    "    test_labels = test_data['Label'].values\n",
    "    test_data = test_data.drop(columns=['Label']).values\n",
    "\n",
    "    train_datasets = datasets[:fold] + datasets[fold + 1:]\n",
    "\n",
    "    train_data = pd.concat(train_datasets)\n",
    "    train_labels = train_data['Label'].values\n",
    "    train_data = train_data.drop(columns=['Label']).values\n",
    "\n",
    "    smote = SMOTE(random_state=42)\n",
    "    train_data, train_labels = smote.fit_resample(train_data, train_labels)\n",
    "\n",
    "    scaler = StandardScaler()\n",
    "    train_data = scaler.fit_transform(train_data)\n",
    "\n",
    "    train_data = train_data.reshape(-1, len(train_data[0]), 1)\n",
    "\n",
    "    hyperparameters['input_neurons'] = len(train_data[0])\n",
    "\n",
    "    model = tf.keras.Sequential()\n",
    "    \n",
    "    model.add(tf.keras.layers.LSTM(\n",
    "        hyperparameters_rnn['lstm_units'],\n",
    "        input_shape=(len(train_data[0]), 1),\n",
    "        dropout=hyperparameters_rnn['dropout'],\n",
    "        return_sequences=False\n",
    "    ))\n",
    "    \n",
    "    model.add(tf.keras.layers.Dense(hyperparameters_rnn['output_neurons'], activation='softmax'))\n",
    "    \n",
    "    model.compile(\n",
    "        optimizer=tf.keras.optimizers.legacy.Adam(learning_rate=hyperparameters_rnn['learning_rate']),\n",
    "        loss='sparse_categorical_crossentropy',\n",
    "        metrics=['accuracy']\n",
    "    )\n",
    "    \n",
    "\n",
    "    early_stopping = tf.keras.callbacks.EarlyStopping(\n",
    "        monitor='val_loss',\n",
    "        patience=hyperparameters['patience'],\n",
    "        restore_best_weights=True\n",
    "    )\n",
    "\n",
    "    history = model.fit(\n",
    "        train_data, train_labels,\n",
    "        epochs=hyperparameters['epochs'],\n",
    "        batch_size=hyperparameters['batch_size'],\n",
    "        validation_split=0.2,\n",
    "        callbacks=[early_stopping],\n",
    "        verbose=0\n",
    "    )\n",
    "    #plot_learning_curve(history)\n",
    "\n",
    "    test_data = test_data.reshape(-1, len(test_data[0]), 1)\n",
    "\n",
    "    predictions = model.predict(test_data)\n",
    "    predicted_labels = np.argmax(predictions, axis=1)\n",
    "    #plot_confusion_matrix(test_labels, predicted_labels, class_labels=['0', '1', '2', '3','4', '5', '6', '7','8','9'])\n",
    "\n",
    "    accuracy = accuracy_score(test_labels, predicted_labels)\n",
    "    accuracies.append(accuracy)\n",
    "\n",
    "mean_accuracy = np.mean(accuracies)\n",
    "\n",
    "print(f\"Mean Accuracy across folds (RNN): {mean_accuracy}\")\n"
   ],
   "metadata": {
    "collapsed": false
   },
   "id": "4cf48a3609c30678"
  },
  {
   "cell_type": "code",
   "execution_count": null,
   "outputs": [],
   "source": [],
   "metadata": {
    "collapsed": false
   },
   "id": "770685aca9538eb3"
  }
 ],
 "metadata": {
  "kernelspec": {
   "display_name": "Python 3",
   "language": "python",
   "name": "python3"
  },
  "language_info": {
   "codemirror_mode": {
    "name": "ipython",
    "version": 2
   },
   "file_extension": ".py",
   "mimetype": "text/x-python",
   "name": "python",
   "nbconvert_exporter": "python",
   "pygments_lexer": "ipython2",
   "version": "2.7.6"
  }
 },
 "nbformat": 4,
 "nbformat_minor": 5
}
