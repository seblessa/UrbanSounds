{
 "cells": [
  {
   "cell_type": "markdown",
   "source": [
    "# Imports"
   ],
   "metadata": {
    "collapsed": false
   },
   "id": "4e7060e7bdacd96b"
  },
  {
   "cell_type": "code",
   "execution_count": 66,
   "outputs": [],
   "source": [
    "import pandas as pd\n",
    "import numpy as np\n",
    "import re\n",
    "from imblearn.over_sampling import SMOTE\n",
    "from sklearn.model_selection import train_test_split\n",
    "from sklearn.neural_network import MLPClassifier\n",
    "from sklearn.preprocessing import StandardScaler\n",
    "from sklearn.model_selection import StratifiedKFold\n",
    "import tensorflow as tf\n",
    "import matplotlib.pyplot as plt\n",
    "import seaborn as sns\n",
    "from tqdm import tqdm\n",
    "from sklearn.model_selection import StratifiedKFold\n",
    "from sklearn.metrics import accuracy_score\n"
   ],
   "metadata": {
    "collapsed": false,
    "ExecuteTime": {
     "end_time": "2023-11-26T15:16:52.733937200Z",
     "start_time": "2023-11-26T15:16:52.699496100Z"
    }
   },
   "id": "8d82c7c99b1ed9c4"
  },
  {
   "cell_type": "markdown",
   "source": [
    "# Data pre-processing and preparation"
   ],
   "metadata": {
    "collapsed": false
   },
   "id": "818e7b75ec4f408e"
  },
  {
   "cell_type": "markdown",
   "source": [
    "### Obtaining the data"
   ],
   "metadata": {
    "collapsed": false
   },
   "id": "2ea8c0984323a72a"
  },
  {
   "cell_type": "raw",
   "source": [
    "To obtain the input for our neural networks, we used Librosa to preprocess original raw sound data and extract the features. To adress the fact that the files had different durations and sampling rates, we standardized the netwok input. "
   ],
   "metadata": {
    "collapsed": false
   },
   "id": "239b9afa5c53327c"
  },
  {
   "cell_type": "markdown",
   "source": [
    "We used the following python script:"
   ],
   "metadata": {
    "collapsed": false
   },
   "id": "14bf7341cc1f2f59"
  },
  {
   "cell_type": "code",
   "execution_count": 62,
   "outputs": [],
   "source": [
    "# python features.py"
   ],
   "metadata": {
    "collapsed": false,
    "ExecuteTime": {
     "end_time": "2023-11-26T15:16:24.094493700Z",
     "start_time": "2023-11-26T15:16:24.047397300Z"
    }
   },
   "id": "ae5ff23e6091f814"
  },
  {
   "cell_type": "markdown",
   "source": [
    "### Unifying the class labels with the data"
   ],
   "metadata": {
    "collapsed": false
   },
   "id": "663615d740b09394"
  },
  {
   "cell_type": "code",
   "execution_count": 63,
   "outputs": [],
   "source": [
    "df = pd.read_csv('urbansounds_features.csv')"
   ],
   "metadata": {
    "collapsed": false,
    "ExecuteTime": {
     "end_time": "2023-11-26T15:16:27.388400500Z",
     "start_time": "2023-11-26T15:16:27.217559800Z"
    }
   },
   "id": "4a058e2562967d65"
  },
  {
   "cell_type": "code",
   "execution_count": 64,
   "outputs": [
    {
     "name": "stdout",
     "output_type": "stream",
     "text": [
      "   chroma_stft  chroma_cqt  chroma_cens  melspectogram       rms     centroid  \\\n",
      "0     0.494262    0.568759     0.267266       3.465249  0.068657  2177.483658   \n",
      "1     0.422076    0.556903     0.270826       3.132792  0.076706  1623.980658   \n",
      "2     0.575613    0.606710     0.275953       2.257988  0.044251  2615.200756   \n",
      "3     0.175040    0.526637     0.258603       1.481219  0.043195  1223.789196   \n",
      "4     0.412279    0.608818     0.264944       0.806509  0.035636  1470.863386   \n",
      "\n",
      "     bandwidth   contrast  flatness      rolloff  ...  mcffs_32  mcffs_33  \\\n",
      "0  3649.518344  19.685466  0.002088  4745.917969  ... -2.700133 -0.350788   \n",
      "1  2897.277104  21.508354  0.001123  2743.891814  ... -5.048006 -1.626652   \n",
      "2  4200.855657  18.001559  0.003370  6143.329229  ... -1.015445  0.989107   \n",
      "3  1367.391253  16.179755  0.583564  2473.821756  ...  2.447487 -1.956081   \n",
      "4  2296.662162  12.349992  0.353831  3264.932914  ...  0.232175  0.326373   \n",
      "\n",
      "   mcffs_34  mcffs_35  mcffs_36  mcffs_37  mcffs_38  mcffs_39  mcffs_40  Label  \n",
      "0 -0.123943 -0.308717  0.377525 -0.907509 -0.254973 -1.738416 -1.207377      3  \n",
      "1 -1.303208 -1.028367  0.470883 -2.959822 -1.439514 -2.282194 -1.155120      3  \n",
      "2  1.142546  0.407650 -0.166601 -0.859933 -0.637618 -1.657652 -1.639226      3  \n",
      "3  0.440909 -1.384400  0.585570 -0.601787 -0.864582 -0.896903 -0.161344      3  \n",
      "4  0.610677  0.570734  1.030308  0.507107  0.160745  0.642600  0.364088      6  \n",
      "\n",
      "[5 rows x 54 columns]\n"
     ]
    }
   ],
   "source": [
    "df['Label'] = df['Label'].str.split('-').str[1]\n",
    "\n",
    "# Display the first few rows of the updated DataFrame\n",
    "print(df.head())"
   ],
   "metadata": {
    "collapsed": false,
    "ExecuteTime": {
     "end_time": "2023-11-26T15:16:35.209660500Z",
     "start_time": "2023-11-26T15:16:35.139973600Z"
    }
   },
   "id": "5cac64f20e604644"
  },
  {
   "cell_type": "markdown",
   "source": [
    "### Check for object values"
   ],
   "metadata": {
    "collapsed": false
   },
   "id": "5360df1663497b2c"
  },
  {
   "cell_type": "code",
   "execution_count": 65,
   "outputs": [
    {
     "data": {
      "text/plain": "Index(['fourier_tempogram', 'Label'], dtype='object')"
     },
     "execution_count": 65,
     "metadata": {},
     "output_type": "execute_result"
    }
   ],
   "source": [
    "object_columns = df.select_dtypes(include=['object']).columns\n",
    "object_columns"
   ],
   "metadata": {
    "collapsed": false,
    "ExecuteTime": {
     "end_time": "2023-11-26T15:16:41.279473800Z",
     "start_time": "2023-11-26T15:16:41.228199900Z"
    }
   },
   "id": "f19c09a1c381e5b1"
  },
  {
   "cell_type": "markdown",
   "source": [
    "### Convert the columns with object values to numeric"
   ],
   "metadata": {
    "collapsed": false
   },
   "id": "d48df21866757fa7"
  },
  {
   "cell_type": "code",
   "execution_count": 67,
   "outputs": [],
   "source": [
    "def calculate_mean_from_string(string):\n",
    "    cleaned_string = string.replace('\\n', '')\n",
    "    numbers = re.findall(r\"[-+]?\\d*\\.\\d+|\\d+\", cleaned_string)\n",
    "    array = np.array(numbers, dtype=float)\n",
    "    mean_value = np.mean(array)\n",
    "    return mean_value"
   ],
   "metadata": {
    "collapsed": false,
    "ExecuteTime": {
     "end_time": "2023-11-26T15:17:25.232388700Z",
     "start_time": "2023-11-26T15:17:25.193628600Z"
    }
   },
   "id": "3544df71325d6bd2"
  },
  {
   "cell_type": "code",
   "execution_count": 68,
   "outputs": [],
   "source": [
    "df['Label'] = df['Label'].astype('int64')"
   ],
   "metadata": {
    "collapsed": false,
    "ExecuteTime": {
     "end_time": "2023-11-26T15:17:27.361960100Z",
     "start_time": "2023-11-26T15:17:27.310327900Z"
    }
   },
   "id": "ad2e3f46d1a4e11d"
  },
  {
   "cell_type": "code",
   "execution_count": 69,
   "outputs": [],
   "source": [
    "df['fourier_tempogram'] = df['fourier_tempogram'].apply(calculate_mean_from_string)"
   ],
   "metadata": {
    "collapsed": false,
    "ExecuteTime": {
     "end_time": "2023-11-26T15:17:30.454746800Z",
     "start_time": "2023-11-26T15:17:30.291563100Z"
    }
   },
   "id": "ff62029e4b0d3140"
  },
  {
   "cell_type": "code",
   "execution_count": 71,
   "outputs": [
    {
     "data": {
      "text/plain": "      chroma_stft  chroma_cqt  chroma_cens  melspectogram       rms  \\\n0        0.494262    0.568759     0.267266       3.465249  0.068657   \n1        0.422076    0.556903     0.270826       3.132792  0.076706   \n2        0.575613    0.606710     0.275953       2.257988  0.044251   \n3        0.175040    0.526637     0.258603       1.481219  0.043195   \n4        0.412279    0.608818     0.264944       0.806509  0.035636   \n...           ...         ...          ...            ...       ...   \n8727     0.479371    0.552483     0.266297       2.410669  0.127638   \n8728     0.545358    0.593931     0.273223       2.837043  0.130824   \n8729     0.436206    0.605989     0.275923       5.695730  0.190655   \n8730     0.524807    0.671077     0.277764       3.745609  0.153592   \n8731     0.538737    0.582093     0.271992       5.034693  0.175901   \n\n         centroid    bandwidth   contrast  flatness      rolloff  ...  \\\n0     2177.483658  3649.518344  19.685466  0.002088  4745.917969  ...   \n1     1623.980658  2897.277104  21.508354  0.001123  2743.891814  ...   \n2     2615.200756  4200.855657  18.001559  0.003370  6143.329229  ...   \n3     1223.789196  1367.391253  16.179755  0.583564  2473.821756  ...   \n4     1470.863386  2296.662162  12.349992  0.353831  3264.932914  ...   \n...           ...          ...        ...       ...          ...  ...   \n8727  2431.943128  2504.586835  16.611774  0.000412  4677.947945  ...   \n8728  1979.367181  2215.734460  16.131903  0.000247  3817.306386  ...   \n8729  2192.398026  2140.849300  17.080651  0.000198  4041.189283  ...   \n8730  2187.172172  2190.171430  16.642445  0.000244  4042.500000  ...   \n8731  1962.121130  2124.205226  16.116446  0.000228  3778.796281  ...   \n\n      mcffs_32  mcffs_33  mcffs_34  mcffs_35  mcffs_36  mcffs_37  mcffs_38  \\\n0    -2.700133 -0.350788 -0.123943 -0.308717  0.377525 -0.907509 -0.254973   \n1    -5.048006 -1.626652 -1.303208 -1.028367  0.470883 -2.959822 -1.439514   \n2    -1.015445  0.989107  1.142546  0.407650 -0.166601 -0.859933 -0.637618   \n3     2.447487 -1.956081  0.440909 -1.384400  0.585570 -0.601787 -0.864582   \n4     0.232175  0.326373  0.610677  0.570734  1.030308  0.507107  0.160745   \n...        ...       ...       ...       ...       ...       ...       ...   \n8727  0.199730 -0.839973 -4.665137 -0.551395  0.214190  0.865874  1.078110   \n8728  0.332412  2.602965 -0.238956  2.640356 -0.004591 -0.695137 -0.639137   \n8729  0.285693  1.105075 -2.979676  0.069636  0.038741  0.715938  2.593126   \n8730 -0.099813  0.535876 -0.444768  2.225560  1.202731 -1.514751  1.340369   \n8731  2.109410  0.105799 -3.077201  3.065105 -4.448371 -0.421964  1.611564   \n\n      mcffs_39  mcffs_40  Label  \n0    -1.738416 -1.207377      3  \n1    -2.282194 -1.155120      3  \n2    -1.657652 -1.639226      3  \n3    -0.896903 -0.161344      3  \n4     0.642600  0.364088      6  \n...        ...       ...    ...  \n8727 -3.648149  0.705190      2  \n8728 -2.883146  0.214829      2  \n8729 -2.714100  1.224722      2  \n8730 -0.692652  1.283734      2  \n8731 -1.729048  2.511954      2  \n\n[8732 rows x 54 columns]",
      "text/html": "<div>\n<style scoped>\n    .dataframe tbody tr th:only-of-type {\n        vertical-align: middle;\n    }\n\n    .dataframe tbody tr th {\n        vertical-align: top;\n    }\n\n    .dataframe thead th {\n        text-align: right;\n    }\n</style>\n<table border=\"1\" class=\"dataframe\">\n  <thead>\n    <tr style=\"text-align: right;\">\n      <th></th>\n      <th>chroma_stft</th>\n      <th>chroma_cqt</th>\n      <th>chroma_cens</th>\n      <th>melspectogram</th>\n      <th>rms</th>\n      <th>centroid</th>\n      <th>bandwidth</th>\n      <th>contrast</th>\n      <th>flatness</th>\n      <th>rolloff</th>\n      <th>...</th>\n      <th>mcffs_32</th>\n      <th>mcffs_33</th>\n      <th>mcffs_34</th>\n      <th>mcffs_35</th>\n      <th>mcffs_36</th>\n      <th>mcffs_37</th>\n      <th>mcffs_38</th>\n      <th>mcffs_39</th>\n      <th>mcffs_40</th>\n      <th>Label</th>\n    </tr>\n  </thead>\n  <tbody>\n    <tr>\n      <th>0</th>\n      <td>0.494262</td>\n      <td>0.568759</td>\n      <td>0.267266</td>\n      <td>3.465249</td>\n      <td>0.068657</td>\n      <td>2177.483658</td>\n      <td>3649.518344</td>\n      <td>19.685466</td>\n      <td>0.002088</td>\n      <td>4745.917969</td>\n      <td>...</td>\n      <td>-2.700133</td>\n      <td>-0.350788</td>\n      <td>-0.123943</td>\n      <td>-0.308717</td>\n      <td>0.377525</td>\n      <td>-0.907509</td>\n      <td>-0.254973</td>\n      <td>-1.738416</td>\n      <td>-1.207377</td>\n      <td>3</td>\n    </tr>\n    <tr>\n      <th>1</th>\n      <td>0.422076</td>\n      <td>0.556903</td>\n      <td>0.270826</td>\n      <td>3.132792</td>\n      <td>0.076706</td>\n      <td>1623.980658</td>\n      <td>2897.277104</td>\n      <td>21.508354</td>\n      <td>0.001123</td>\n      <td>2743.891814</td>\n      <td>...</td>\n      <td>-5.048006</td>\n      <td>-1.626652</td>\n      <td>-1.303208</td>\n      <td>-1.028367</td>\n      <td>0.470883</td>\n      <td>-2.959822</td>\n      <td>-1.439514</td>\n      <td>-2.282194</td>\n      <td>-1.155120</td>\n      <td>3</td>\n    </tr>\n    <tr>\n      <th>2</th>\n      <td>0.575613</td>\n      <td>0.606710</td>\n      <td>0.275953</td>\n      <td>2.257988</td>\n      <td>0.044251</td>\n      <td>2615.200756</td>\n      <td>4200.855657</td>\n      <td>18.001559</td>\n      <td>0.003370</td>\n      <td>6143.329229</td>\n      <td>...</td>\n      <td>-1.015445</td>\n      <td>0.989107</td>\n      <td>1.142546</td>\n      <td>0.407650</td>\n      <td>-0.166601</td>\n      <td>-0.859933</td>\n      <td>-0.637618</td>\n      <td>-1.657652</td>\n      <td>-1.639226</td>\n      <td>3</td>\n    </tr>\n    <tr>\n      <th>3</th>\n      <td>0.175040</td>\n      <td>0.526637</td>\n      <td>0.258603</td>\n      <td>1.481219</td>\n      <td>0.043195</td>\n      <td>1223.789196</td>\n      <td>1367.391253</td>\n      <td>16.179755</td>\n      <td>0.583564</td>\n      <td>2473.821756</td>\n      <td>...</td>\n      <td>2.447487</td>\n      <td>-1.956081</td>\n      <td>0.440909</td>\n      <td>-1.384400</td>\n      <td>0.585570</td>\n      <td>-0.601787</td>\n      <td>-0.864582</td>\n      <td>-0.896903</td>\n      <td>-0.161344</td>\n      <td>3</td>\n    </tr>\n    <tr>\n      <th>4</th>\n      <td>0.412279</td>\n      <td>0.608818</td>\n      <td>0.264944</td>\n      <td>0.806509</td>\n      <td>0.035636</td>\n      <td>1470.863386</td>\n      <td>2296.662162</td>\n      <td>12.349992</td>\n      <td>0.353831</td>\n      <td>3264.932914</td>\n      <td>...</td>\n      <td>0.232175</td>\n      <td>0.326373</td>\n      <td>0.610677</td>\n      <td>0.570734</td>\n      <td>1.030308</td>\n      <td>0.507107</td>\n      <td>0.160745</td>\n      <td>0.642600</td>\n      <td>0.364088</td>\n      <td>6</td>\n    </tr>\n    <tr>\n      <th>...</th>\n      <td>...</td>\n      <td>...</td>\n      <td>...</td>\n      <td>...</td>\n      <td>...</td>\n      <td>...</td>\n      <td>...</td>\n      <td>...</td>\n      <td>...</td>\n      <td>...</td>\n      <td>...</td>\n      <td>...</td>\n      <td>...</td>\n      <td>...</td>\n      <td>...</td>\n      <td>...</td>\n      <td>...</td>\n      <td>...</td>\n      <td>...</td>\n      <td>...</td>\n      <td>...</td>\n    </tr>\n    <tr>\n      <th>8727</th>\n      <td>0.479371</td>\n      <td>0.552483</td>\n      <td>0.266297</td>\n      <td>2.410669</td>\n      <td>0.127638</td>\n      <td>2431.943128</td>\n      <td>2504.586835</td>\n      <td>16.611774</td>\n      <td>0.000412</td>\n      <td>4677.947945</td>\n      <td>...</td>\n      <td>0.199730</td>\n      <td>-0.839973</td>\n      <td>-4.665137</td>\n      <td>-0.551395</td>\n      <td>0.214190</td>\n      <td>0.865874</td>\n      <td>1.078110</td>\n      <td>-3.648149</td>\n      <td>0.705190</td>\n      <td>2</td>\n    </tr>\n    <tr>\n      <th>8728</th>\n      <td>0.545358</td>\n      <td>0.593931</td>\n      <td>0.273223</td>\n      <td>2.837043</td>\n      <td>0.130824</td>\n      <td>1979.367181</td>\n      <td>2215.734460</td>\n      <td>16.131903</td>\n      <td>0.000247</td>\n      <td>3817.306386</td>\n      <td>...</td>\n      <td>0.332412</td>\n      <td>2.602965</td>\n      <td>-0.238956</td>\n      <td>2.640356</td>\n      <td>-0.004591</td>\n      <td>-0.695137</td>\n      <td>-0.639137</td>\n      <td>-2.883146</td>\n      <td>0.214829</td>\n      <td>2</td>\n    </tr>\n    <tr>\n      <th>8729</th>\n      <td>0.436206</td>\n      <td>0.605989</td>\n      <td>0.275923</td>\n      <td>5.695730</td>\n      <td>0.190655</td>\n      <td>2192.398026</td>\n      <td>2140.849300</td>\n      <td>17.080651</td>\n      <td>0.000198</td>\n      <td>4041.189283</td>\n      <td>...</td>\n      <td>0.285693</td>\n      <td>1.105075</td>\n      <td>-2.979676</td>\n      <td>0.069636</td>\n      <td>0.038741</td>\n      <td>0.715938</td>\n      <td>2.593126</td>\n      <td>-2.714100</td>\n      <td>1.224722</td>\n      <td>2</td>\n    </tr>\n    <tr>\n      <th>8730</th>\n      <td>0.524807</td>\n      <td>0.671077</td>\n      <td>0.277764</td>\n      <td>3.745609</td>\n      <td>0.153592</td>\n      <td>2187.172172</td>\n      <td>2190.171430</td>\n      <td>16.642445</td>\n      <td>0.000244</td>\n      <td>4042.500000</td>\n      <td>...</td>\n      <td>-0.099813</td>\n      <td>0.535876</td>\n      <td>-0.444768</td>\n      <td>2.225560</td>\n      <td>1.202731</td>\n      <td>-1.514751</td>\n      <td>1.340369</td>\n      <td>-0.692652</td>\n      <td>1.283734</td>\n      <td>2</td>\n    </tr>\n    <tr>\n      <th>8731</th>\n      <td>0.538737</td>\n      <td>0.582093</td>\n      <td>0.271992</td>\n      <td>5.034693</td>\n      <td>0.175901</td>\n      <td>1962.121130</td>\n      <td>2124.205226</td>\n      <td>16.116446</td>\n      <td>0.000228</td>\n      <td>3778.796281</td>\n      <td>...</td>\n      <td>2.109410</td>\n      <td>0.105799</td>\n      <td>-3.077201</td>\n      <td>3.065105</td>\n      <td>-4.448371</td>\n      <td>-0.421964</td>\n      <td>1.611564</td>\n      <td>-1.729048</td>\n      <td>2.511954</td>\n      <td>2</td>\n    </tr>\n  </tbody>\n</table>\n<p>8732 rows × 54 columns</p>\n</div>"
     },
     "execution_count": 71,
     "metadata": {},
     "output_type": "execute_result"
    }
   ],
   "source": [
    "df"
   ],
   "metadata": {
    "collapsed": false,
    "ExecuteTime": {
     "end_time": "2023-11-26T15:18:05.494390600Z",
     "start_time": "2023-11-26T15:18:05.421650900Z"
    }
   },
   "id": "9c391d0298c3799d"
  },
  {
   "cell_type": "markdown",
   "source": [
    "### Check interval of the values per column"
   ],
   "metadata": {
    "collapsed": false
   },
   "id": "a100958047e33f6a"
  },
  {
   "cell_type": "code",
   "execution_count": 72,
   "outputs": [
    {
     "data": {
      "text/plain": "     chroma_stft  chroma_cqt  chroma_cens  melspectogram       rms  \\\nmin     0.008760    0.118011     0.126660       0.017318  0.001788   \nmax     0.845297    0.796146     0.286841      65.208150  0.579545   \n\n         centroid    bandwidth   contrast      flatness       rolloff  ...  \\\nmin     49.252793    66.012024   3.938343  1.648695e-07     81.951002  ...   \nmax  10907.707763  7532.173550  29.609336  9.798845e-01  18628.717306  ...   \n\n      mcffs_32   mcffs_33   mcffs_34   mcffs_35   mcffs_36   mcffs_37  \\\nmin -12.144473 -19.343061 -28.116508 -16.987791 -14.576315 -36.001620   \nmax  19.055628  15.425904  22.999128  20.503590  26.710932  23.912758   \n\n      mcffs_38   mcffs_39   mcffs_40  Label  \nmin -23.080887 -25.212177 -13.395362    0.0  \nmax  17.683758  17.977505  30.761436    9.0  \n\n[2 rows x 54 columns]",
      "text/html": "<div>\n<style scoped>\n    .dataframe tbody tr th:only-of-type {\n        vertical-align: middle;\n    }\n\n    .dataframe tbody tr th {\n        vertical-align: top;\n    }\n\n    .dataframe thead th {\n        text-align: right;\n    }\n</style>\n<table border=\"1\" class=\"dataframe\">\n  <thead>\n    <tr style=\"text-align: right;\">\n      <th></th>\n      <th>chroma_stft</th>\n      <th>chroma_cqt</th>\n      <th>chroma_cens</th>\n      <th>melspectogram</th>\n      <th>rms</th>\n      <th>centroid</th>\n      <th>bandwidth</th>\n      <th>contrast</th>\n      <th>flatness</th>\n      <th>rolloff</th>\n      <th>...</th>\n      <th>mcffs_32</th>\n      <th>mcffs_33</th>\n      <th>mcffs_34</th>\n      <th>mcffs_35</th>\n      <th>mcffs_36</th>\n      <th>mcffs_37</th>\n      <th>mcffs_38</th>\n      <th>mcffs_39</th>\n      <th>mcffs_40</th>\n      <th>Label</th>\n    </tr>\n  </thead>\n  <tbody>\n    <tr>\n      <th>min</th>\n      <td>0.008760</td>\n      <td>0.118011</td>\n      <td>0.126660</td>\n      <td>0.017318</td>\n      <td>0.001788</td>\n      <td>49.252793</td>\n      <td>66.012024</td>\n      <td>3.938343</td>\n      <td>1.648695e-07</td>\n      <td>81.951002</td>\n      <td>...</td>\n      <td>-12.144473</td>\n      <td>-19.343061</td>\n      <td>-28.116508</td>\n      <td>-16.987791</td>\n      <td>-14.576315</td>\n      <td>-36.001620</td>\n      <td>-23.080887</td>\n      <td>-25.212177</td>\n      <td>-13.395362</td>\n      <td>0.0</td>\n    </tr>\n    <tr>\n      <th>max</th>\n      <td>0.845297</td>\n      <td>0.796146</td>\n      <td>0.286841</td>\n      <td>65.208150</td>\n      <td>0.579545</td>\n      <td>10907.707763</td>\n      <td>7532.173550</td>\n      <td>29.609336</td>\n      <td>9.798845e-01</td>\n      <td>18628.717306</td>\n      <td>...</td>\n      <td>19.055628</td>\n      <td>15.425904</td>\n      <td>22.999128</td>\n      <td>20.503590</td>\n      <td>26.710932</td>\n      <td>23.912758</td>\n      <td>17.683758</td>\n      <td>17.977505</td>\n      <td>30.761436</td>\n      <td>9.0</td>\n    </tr>\n  </tbody>\n</table>\n<p>2 rows × 54 columns</p>\n</div>"
     },
     "execution_count": 72,
     "metadata": {},
     "output_type": "execute_result"
    }
   ],
   "source": [
    "column_intervals = df.describe().loc[['min', 'max']]\n",
    "column_intervals"
   ],
   "metadata": {
    "collapsed": false,
    "ExecuteTime": {
     "end_time": "2023-11-26T15:18:08.959484300Z",
     "start_time": "2023-11-26T15:18:08.828615500Z"
    }
   },
   "id": "407fb27058a8d22b"
  },
  {
   "cell_type": "markdown",
   "source": [
    "### Check the distribution of the classes"
   ],
   "metadata": {
    "collapsed": false
   },
   "id": "148d274fee790231"
  },
  {
   "cell_type": "code",
   "execution_count": 74,
   "outputs": [
    {
     "data": {
      "text/plain": "<Figure size 800x600 with 1 Axes>",
      "image/png": "[encoded data removed]"
     },
     "metadata": {},
     "output_type": "display_data"
    }
   ],
   "source": [
    "class_counts = df['Label'].value_counts()\n",
    "class_labels = class_counts.index\n",
    "class_values = class_counts.values\n",
    "\n",
    "plt.figure(figsize=(8, 6))\n",
    "plt.bar(class_labels, class_values, color='skyblue')\n",
    "plt.xlabel('Class')\n",
    "plt.ylabel('Count')\n",
    "plt.title('Class Distribution')\n",
    "plt.show()"
   ],
   "metadata": {
    "collapsed": false,
    "ExecuteTime": {
     "end_time": "2023-11-26T15:38:10.473282200Z",
     "start_time": "2023-11-26T15:38:10.158040200Z"
    }
   },
   "id": "5ed5f126fe71eadf"
  },
  {
   "cell_type": "markdown",
   "source": [
    "### The classes are not balanced nor normalized, so we will need adress that in the training set"
   ],
   "metadata": {
    "collapsed": false
   },
   "id": "a97e2e2f2715a5de"
  },
  {
   "cell_type": "code",
   "execution_count": null,
   "outputs": [],
   "source": [
    "X = df.drop('Label', axis=1) \n",
    "y = df['Label']"
   ],
   "metadata": {
    "collapsed": false
   },
   "id": "57cdd037cac4f8a"
  },
  {
   "cell_type": "code",
   "execution_count": null,
   "outputs": [],
   "source": [
    "# Split the data into training and testing sets\n",
    "X_train, X_test, y_train, y_test = train_test_split(X, y, test_size=0.2, random_state=42)"
   ],
   "metadata": {
    "collapsed": false
   },
   "id": "fb69618d71e46027"
  },
  {
   "cell_type": "code",
   "execution_count": null,
   "outputs": [],
   "source": [
    "# Oversample the features values using SMOTE\n",
    "smote = SMOTE(random_state=42)\n",
    "X_train_resampled, y_train_resampled = smote.fit_resample(X_train, y_train)"
   ],
   "metadata": {
    "collapsed": false
   },
   "id": "a8f65c78e78a9507"
  },
  {
   "cell_type": "code",
   "execution_count": null,
   "outputs": [],
   "source": [
    "# Show a graph of the class distribution\n",
    "class_counts = y_train_resampled.value_counts()\n",
    "class_labels = class_counts.index\n",
    "class_values = class_counts.values\n",
    "\n",
    "plt.figure(figsize=(8, 6))\n",
    "plt.bar(class_labels, class_values, color='skyblue')\n",
    "plt.xlabel('Class')\n",
    "plt.ylabel('Count')\n",
    "plt.title('Class Distribution')\n",
    "plt.show()"
   ],
   "metadata": {
    "collapsed": false
   },
   "id": "8a01dc024ee3dd2e"
  },
  {
   "cell_type": "code",
   "execution_count": null,
   "outputs": [],
   "source": [
    "# Standardize the feature values\n",
    "scaler = StandardScaler()\n",
    "X_train_scaled = scaler.fit_transform(X_train_resampled)\n",
    "X_test_scaled = scaler.transform(X_test)"
   ],
   "metadata": {
    "collapsed": false
   },
   "id": "b1e396a52d8060f9"
  },
  {
   "cell_type": "markdown",
   "source": [
    "# Model architecture definition"
   ],
   "metadata": {
    "collapsed": false
   },
   "id": "bc7a2c096e8aeaaa"
  },
  {
   "cell_type": "markdown",
   "source": [
    "The classifiers we chose were the following: a classifier based on multilayer perceptron (MLP) and a convolutional neural network (CNN)."
   ],
   "metadata": {
    "collapsed": false
   },
   "id": "4949590adfe6c333"
  },
  {
   "cell_type": "markdown",
   "source": [
    "### MLP classifier"
   ],
   "metadata": {
    "collapsed": false
   },
   "id": "37b70ee9008af212"
  },
  {
   "cell_type": "markdown",
   "source": [
    "For the MLP classifier, we need to define the following parameters: number of layers, number of neurons\n",
    "per layer and the activation function for each layer."
   ],
   "metadata": {
    "collapsed": false
   },
   "id": "2b5c84a611077f18"
  },
  {
   "cell_type": "raw",
   "source": [
    "    Number of layers - since one hidden layer is enough to represent an approximation of\n",
    "any function to an arbitrary degree of accuracy and since a shallow net tends to overfit more, we experimented with 2\n",
    "number of neurons per layer - there are several rules of thumb to determine the number of neurons per       Layer and we tested the following: 2/3 of the input layer + the number of output neurons, the mean of input neurons + the number of output neurons\n",
    "    Activation function for each layer = we tested the following: relu, sigmoid, exponential using grid \n",
    "search to determine the best combination and using grid search we got the best results with relu for the first and the second layer\n"
   ],
   "metadata": {
    "collapsed": false
   },
   "id": "fd262ae433d79f87"
  },
  {
   "cell_type": "markdown",
   "source": [
    "# Training strategy"
   ],
   "metadata": {
    "collapsed": false
   },
   "id": "6a0e95cb5ed8ca00"
  },
  {
   "cell_type": "markdown",
   "source": [
    "Optimizer\n",
    "Learning hyperparameters\n",
    "Regularization techniques\n",
    "Possibility of using transfer learning\n",
    "\n",
    "Choosing the best optimizer involves expererimenting and comparing the results of different optimizers to see what works best. We tested the following: SGD, Adam, and Adagrad.\n",
    "A traditional default value for the learning rate is 0.1 or 0.01. We chose 0.05 as a learning rate for our MLP classifier.\n",
    "Batch size - ??\n",
    "Too few epochs may result in underfitting, while too many epochs may lead to overfitting, so we tried 300 and got good results.\n",
    "We used early stopping to prevent overfitting and chose 0.1 as dropout rate.\n",
    " "
   ],
   "metadata": {
    "collapsed": false
   },
   "id": "708bfec49a6e352"
  },
  {
   "cell_type": "markdown",
   "source": [],
   "metadata": {
    "collapsed": false
   },
   "id": "b98193a9d4634847"
  },
  {
   "cell_type": "markdown",
   "source": [
    "## CNN classifier"
   ],
   "metadata": {
    "collapsed": false
   },
   "id": "732789cc28f3d9f9"
  },
  {
   "cell_type": "raw",
   "source": [
    "type of inputs (1D or 2D)\n",
    "number layers = \n",
    "kinds of layers = \n",
    "filter dimensions = \n",
    "number of feature maps = "
   ],
   "metadata": {
    "collapsed": false
   },
   "id": "233e36409e8cb351"
  },
  {
   "cell_type": "code",
   "execution_count": null,
   "outputs": [],
   "source": [],
   "metadata": {
    "collapsed": false
   },
   "id": "f1b6ceb6f26ea2c7"
  }
 ],
 "metadata": {
  "kernelspec": {
   "display_name": "Python 3",
   "language": "python",
   "name": "python3"
  },
  "language_info": {
   "codemirror_mode": {
    "name": "ipython",
    "version": 2
   },
   "file_extension": ".py",
   "mimetype": "text/x-python",
   "name": "python",
   "nbconvert_exporter": "python",
   "pygments_lexer": "ipython2",
   "version": "2.7.6"
  }
 },
 "nbformat": 4,
 "nbformat_minor": 5
}
