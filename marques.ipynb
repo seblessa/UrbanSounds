{
 "cells": [
  {
   "cell_type": "markdown",
   "source": [
    "# Imports"
   ],
   "metadata": {
    "collapsed": false
   },
   "id": "4e7060e7bdacd96b"
  },
  {
   "cell_type": "code",
   "execution_count": null,
   "outputs": [],
   "source": [
    "import pandas as pd\n",
    "import numpy as np\n",
    "import re\n",
    "from imblearn.over_sampling import SMOTE\n",
    "from sklearn.model_selection import train_test_split\n",
    "from sklearn.neural_network import MLPClassifier\n",
    "from sklearn.preprocessing import StandardScaler\n",
    "from sklearn.model_selection import StratifiedKFold\n",
    "import tensorflow as tf\n",
    "import matplotlib.pyplot as plt\n",
    "import seaborn as sns\n",
    "from tqdm import tqdm\n",
    "from sklearn.model_selection import StratifiedKFold\n",
    "from sklearn.metrics import accuracy_score\n"
   ],
   "metadata": {
    "collapsed": false
   },
   "id": "8d82c7c99b1ed9c4"
  },
  {
   "cell_type": "markdown",
   "source": [
    "# Data pre-processing and preparation"
   ],
   "metadata": {
    "collapsed": false
   },
   "id": "818e7b75ec4f408e"
  },
  {
   "cell_type": "markdown",
   "source": [
    "### Obtaining the data"
   ],
   "metadata": {
    "collapsed": false
   },
   "id": "2ea8c0984323a72a"
  },
  {
   "cell_type": "raw",
   "source": [
    "To obtain the input for our neural networks, we used Librosa to preprocess original raw sound data and extract the features. To adress the fact that the files had different durations and sampling rates, we standardized the netwok input. "
   ],
   "metadata": {
    "collapsed": false
   },
   "id": "239b9afa5c53327c"
  },
  {
   "cell_type": "markdown",
   "source": [
    "We used the following python script:"
   ],
   "metadata": {
    "collapsed": false
   },
   "id": "14bf7341cc1f2f59"
  },
  {
   "cell_type": "code",
   "execution_count": null,
   "outputs": [],
   "source": [
    "# python features.py"
   ],
   "metadata": {
    "collapsed": false
   },
   "id": "ae5ff23e6091f814"
  },
  {
   "cell_type": "markdown",
   "source": [
    "### Unifying the class labels with the data"
   ],
   "metadata": {
    "collapsed": false
   },
   "id": "663615d740b09394"
  },
  {
   "cell_type": "code",
   "execution_count": null,
   "outputs": [],
   "source": [
    "df = pd.read_csv('urbansounds_features.csv')"
   ],
   "metadata": {
    "collapsed": false
   },
   "id": "4a058e2562967d65"
  },
  {
   "cell_type": "code",
   "execution_count": null,
   "outputs": [],
   "source": [
    "df['Label'] = df['Label'].str.split('-').str[1]\n",
    "\n",
    "# Display the first few rows of the updated DataFrame\n",
    "print(df.head())"
   ],
   "metadata": {
    "collapsed": false
   },
   "id": "5cac64f20e604644"
  },
  {
   "cell_type": "markdown",
   "source": [
    "### Check for object values"
   ],
   "metadata": {
    "collapsed": false
   },
   "id": "5360df1663497b2c"
  },
  {
   "cell_type": "code",
   "execution_count": null,
   "outputs": [],
   "source": [
    "object_columns = df.select_dtypes(include=['object']).columns\n",
    "object_columns"
   ],
   "metadata": {
    "collapsed": false
   },
   "id": "f19c09a1c381e5b1"
  },
  {
   "cell_type": "markdown",
   "source": [
    "### Convert the columns with object values to numeric"
   ],
   "metadata": {
    "collapsed": false
   },
   "id": "d48df21866757fa7"
  },
  {
   "cell_type": "code",
   "execution_count": null,
   "outputs": [],
   "source": [
    "def calculate_mean_from_string(string):\n",
    "    cleaned_string = string.replace('\\n', '')\n",
    "    numbers = re.findall(r\"[-+]?\\d*\\.\\d+|\\d+\", cleaned_string)\n",
    "    array = np.array(numbers, dtype=float)\n",
    "    mean_value = np.mean(array)\n",
    "    return mean_value"
   ],
   "metadata": {
    "collapsed": false
   },
   "id": "3544df71325d6bd2"
  },
  {
   "cell_type": "code",
   "execution_count": null,
   "outputs": [],
   "source": [
    "df['Label'] = df['Label'].astype('int64')"
   ],
   "metadata": {
    "collapsed": false
   },
   "id": "ad2e3f46d1a4e11d"
  },
  {
   "cell_type": "code",
   "execution_count": null,
   "outputs": [],
   "source": [
    "df['fourier_tempogram'] = df['fourier_tempogram'].apply(calculate_mean_from_string)"
   ],
   "metadata": {
    "collapsed": false
   },
   "id": "ff62029e4b0d3140"
  },
  {
   "cell_type": "code",
   "execution_count": null,
   "outputs": [],
   "source": [
    "df"
   ],
   "metadata": {
    "collapsed": false
   },
   "id": "9c391d0298c3799d"
  },
  {
   "cell_type": "markdown",
   "source": [
    "### Check interval of the values per column"
   ],
   "metadata": {
    "collapsed": false
   },
   "id": "a100958047e33f6a"
  },
  {
   "cell_type": "code",
   "execution_count": null,
   "outputs": [],
   "source": [
    "column_intervals = df.describe().loc[['min', 'max']]\n",
    "column_intervals"
   ],
   "metadata": {
    "collapsed": false
   },
   "id": "407fb27058a8d22b"
  },
  {
   "cell_type": "markdown",
   "source": [
    "### Check the distribution of the classes"
   ],
   "metadata": {
    "collapsed": false
   },
   "id": "148d274fee790231"
  },
  {
   "cell_type": "code",
   "execution_count": null,
   "outputs": [],
   "source": [
    "class_counts = df['Label'].value_counts()\n",
    "class_labels = class_counts.index\n",
    "class_values = class_counts.values\n",
    "\n",
    "plt.figure(figsize=(8, 6))\n",
    "plt.bar(class_labels, class_values, color='skyblue')\n",
    "plt.xlabel('Class')\n",
    "plt.ylabel('Count')\n",
    "plt.title('Class Distribution')\n",
    "plt.show()"
   ],
   "metadata": {
    "collapsed": false
   },
   "id": "5ed5f126fe71eadf"
  },
  {
   "cell_type": "markdown",
   "source": [
    "### The classes are not balanced nor normalized, so we will need adress that in the training set"
   ],
   "metadata": {
    "collapsed": false
   },
   "id": "a97e2e2f2715a5de"
  },
  {
   "cell_type": "code",
   "execution_count": null,
   "outputs": [],
   "source": [
    "X = df.drop('Label', axis=1) \n",
    "y = df['Label']"
   ],
   "metadata": {
    "collapsed": false
   },
   "id": "57cdd037cac4f8a"
  },
  {
   "cell_type": "code",
   "execution_count": null,
   "outputs": [],
   "source": [
    "# Split the data into training and testing sets\n",
    "X_train, X_test, y_train, y_test = train_test_split(X, y, test_size=0.2, random_state=42)"
   ],
   "metadata": {
    "collapsed": false
   },
   "id": "fb69618d71e46027"
  },
  {
   "cell_type": "code",
   "execution_count": null,
   "outputs": [],
   "source": [
    "# Oversample the features values using SMOTE\n",
    "smote = SMOTE(random_state=42)\n",
    "X_train_resampled, y_train_resampled = smote.fit_resample(X_train, y_train)"
   ],
   "metadata": {
    "collapsed": false
   },
   "id": "a8f65c78e78a9507"
  },
  {
   "cell_type": "code",
   "execution_count": null,
   "outputs": [],
   "source": [
    "# Show a graph of the class distribution\n",
    "class_counts = y_train_resampled.value_counts()\n",
    "class_labels = class_counts.index\n",
    "class_values = class_counts.values\n",
    "\n",
    "plt.figure(figsize=(8, 6))\n",
    "plt.bar(class_labels, class_values, color='skyblue')\n",
    "plt.xlabel('Class')\n",
    "plt.ylabel('Count')\n",
    "plt.title('Class Distribution')\n",
    "plt.show()"
   ],
   "metadata": {
    "collapsed": false
   },
   "id": "8a01dc024ee3dd2e"
  },
  {
   "cell_type": "code",
   "execution_count": null,
   "outputs": [],
   "source": [
    "# Standardize the feature values\n",
    "scaler = StandardScaler()\n",
    "X_train_scaled = scaler.fit_transform(X_train_resampled)\n",
    "X_test_scaled = scaler.transform(X_test)"
   ],
   "metadata": {
    "collapsed": false
   },
   "id": "b1e396a52d8060f9"
  },
  {
   "cell_type": "markdown",
   "source": [
    "# Model architecture definition"
   ],
   "metadata": {
    "collapsed": false
   },
   "id": "bc7a2c096e8aeaaa"
  },
  {
   "cell_type": "markdown",
   "source": [
    "The classifiers we chose were the following: a classifier based on multilayer perceptron (MLP) and a convolutional neural network (CNN)."
   ],
   "metadata": {
    "collapsed": false
   },
   "id": "4949590adfe6c333"
  },
  {
   "cell_type": "markdown",
   "source": [
    "### MLP classifier"
   ],
   "metadata": {
    "collapsed": false
   },
   "id": "37b70ee9008af212"
  },
  {
   "cell_type": "markdown",
   "source": [
    "For the MLP classifier, we need to define the following parameters: number of layers, number of neurons\n",
    "per layer and the activation function for each layer."
   ],
   "metadata": {
    "collapsed": false
   },
   "id": "2b5c84a611077f18"
  },
  {
   "cell_type": "raw",
   "source": [
    "    Number of layers - since one hidden layer is enough to represent an approximation of\n",
    "any function to an arbitrary degree of accuracy and since a shallow net tends to overfit more, we experimented with 2\n",
    "number of neurons per layer - there are several rules of thumb to determine the number of neurons per       Layer and we tested the following: 2/3 of the input layer + the number of output neurons, the mean of input neurons + the number of output neurons\n",
    "    Activation function for each layer = we tested the following: relu, sigmoid, exponential using grid \n",
    "search to determine the best combination and using grid search we got the best results with relu for the first and the second layer\n"
   ],
   "metadata": {
    "collapsed": false
   },
   "id": "e29378b04f5dcaab"
  },
  {
   "cell_type": "markdown",
   "source": [
    "# Training strategy"
   ],
   "metadata": {
    "collapsed": false
   },
   "id": "6a0e95cb5ed8ca00"
  },
  {
   "cell_type": "markdown",
   "source": [
    "Optimizer\n",
    "Learning hyperparameters\n",
    "Regularization techniques\n",
    "Possibility of using transfer learning\n",
    "\n",
    "Choosing the best optimizer involves expererimenting and comparing the results of different optimizers to see what works best. We tested the following: SGD, Adam, and Adagrad.\n",
    "A traditional default value for the learning rate is 0.1 or 0.01. We chose 0.05 as a learning rate for our MLP classifier.\n",
    "Batch size - ??\n",
    "Too few epochs may result in underfitting, while too many epochs may lead to overfitting, so we tried 300 and got good results.\n",
    "We used early stopping to prevent overfitting and chose 0.1 as dropout rate.\n",
    " "
   ],
   "metadata": {
    "collapsed": false
   },
   "id": "708bfec49a6e352"
  },
  {
   "cell_type": "markdown",
   "source": [],
   "metadata": {
    "collapsed": false
   },
   "id": "b98193a9d4634847"
  },
  {
   "cell_type": "markdown",
   "source": [
    "## CNN classifier"
   ],
   "metadata": {
    "collapsed": false
   },
   "id": "732789cc28f3d9f9"
  },
  {
   "cell_type": "raw",
   "source": [
    "type of inputs (1D or 2D)\n",
    "number layers = \n",
    "kinds of layers = \n",
    "filter dimensions = \n",
    "number of feature maps = "
   ],
   "metadata": {
    "collapsed": false
   },
   "id": "233e36409e8cb351"
  },
  {
   "cell_type": "code",
   "execution_count": null,
   "outputs": [],
   "source": [],
   "metadata": {
    "collapsed": false
   },
   "id": "f1b6ceb6f26ea2c7"
  }
 ],
 "metadata": {
  "kernelspec": {
   "display_name": "Python 3",
   "language": "python",
   "name": "python3"
  },
  "language_info": {
   "codemirror_mode": {
    "name": "ipython",
    "version": 2
   },
   "file_extension": ".py",
   "mimetype": "text/x-python",
   "name": "python",
   "nbconvert_exporter": "python",
   "pygments_lexer": "ipython2",
   "version": "2.7.6"
  }
 },
 "nbformat": 4,
 "nbformat_minor": 5
}
