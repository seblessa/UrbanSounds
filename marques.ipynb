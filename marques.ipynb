{
 "cells": [
  {
   "cell_type": "markdown",
   "source": [
    "# Data pre-processing and preparation"
   ],
   "metadata": {
    "collapsed": false
   },
   "id": "818e7b75ec4f408e"
  },
  {
   "cell_type": "markdown",
   "source": [
    "### Obtaining the data"
   ],
   "metadata": {
    "collapsed": false
   },
   "id": "2ea8c0984323a72a"
  },
  {
   "cell_type": "raw",
   "source": [
    "To obtain the input for our neural networks, we used Librosa to preprocess original raw sound data and extract the features. To adress the fact that the files had different durations and sampling rates, we standardized the netwok input. "
   ],
   "metadata": {
    "collapsed": false
   },
   "id": "239b9afa5c53327c"
  },
  {
   "cell_type": "markdown",
   "source": [
    "We used the following python script:"
   ],
   "metadata": {
    "collapsed": false
   },
   "id": "14bf7341cc1f2f59"
  },
  {
   "cell_type": "code",
   "execution_count": null,
   "outputs": [],
   "source": [
    "# python features.py"
   ],
   "metadata": {
    "collapsed": false
   },
   "id": "ae5ff23e6091f814"
  },
  {
   "cell_type": "markdown",
   "source": [
    "### Unifying the class labels with the data"
   ],
   "metadata": {
    "collapsed": false
   },
   "id": "663615d740b09394"
  },
  {
   "cell_type": "code",
   "execution_count": 46,
   "outputs": [],
   "source": [
    "import pandas as pd\n",
    "df = pd.read_csv('urbansounds_features.csv')"
   ],
   "metadata": {
    "collapsed": false,
    "ExecuteTime": {
     "end_time": "2023-11-25T17:25:40.628145200Z",
     "start_time": "2023-11-25T17:25:40.473745700Z"
    }
   },
   "id": "4a058e2562967d65"
  },
  {
   "cell_type": "code",
   "execution_count": 47,
   "outputs": [
    {
     "name": "stdout",
     "output_type": "stream",
     "text": [
      "   chroma_stft  chroma_cqt  chroma_cens  melspectogram       rms     centroid  \\\n",
      "0     0.494262    0.568759     0.267266       3.465249  0.068657  2177.483658   \n",
      "1     0.422076    0.556903     0.270826       3.132792  0.076706  1623.980658   \n",
      "2     0.575613    0.606710     0.275953       2.257988  0.044251  2615.200756   \n",
      "3     0.175040    0.526637     0.258603       1.481219  0.043195  1223.789196   \n",
      "4     0.412279    0.608818     0.264944       0.806509  0.035636  1470.863386   \n",
      "\n",
      "     bandwidth   contrast  flatness      rolloff  ...  mcffs_32  mcffs_33  \\\n",
      "0  3649.518344  19.685466  0.002088  4745.917969  ... -2.700133 -0.350788   \n",
      "1  2897.277104  21.508354  0.001123  2743.891814  ... -5.048006 -1.626652   \n",
      "2  4200.855657  18.001559  0.003370  6143.329229  ... -1.015445  0.989107   \n",
      "3  1367.391253  16.179755  0.583564  2473.821756  ...  2.447487 -1.956081   \n",
      "4  2296.662162  12.349992  0.353831  3264.932914  ...  0.232175  0.326373   \n",
      "\n",
      "   mcffs_34  mcffs_35  mcffs_36  mcffs_37  mcffs_38  mcffs_39  mcffs_40  Label  \n",
      "0 -0.123943 -0.308717  0.377525 -0.907509 -0.254973 -1.738416 -1.207377      3  \n",
      "1 -1.303208 -1.028367  0.470883 -2.959822 -1.439514 -2.282194 -1.155120      3  \n",
      "2  1.142546  0.407650 -0.166601 -0.859933 -0.637618 -1.657652 -1.639226      3  \n",
      "3  0.440909 -1.384400  0.585570 -0.601787 -0.864582 -0.896903 -0.161344      3  \n",
      "4  0.610677  0.570734  1.030308  0.507107  0.160745  0.642600  0.364088      6  \n",
      "\n",
      "[5 rows x 54 columns]\n"
     ]
    }
   ],
   "source": [
    "# Replace the 'Label' column with the extracted value\n",
    "df['Label'] = df['Label'].str.split('-').str[1]\n",
    "\n",
    "# Display the first few rows of the updated DataFrame\n",
    "print(df.head())"
   ],
   "metadata": {
    "collapsed": false,
    "ExecuteTime": {
     "end_time": "2023-11-25T17:25:41.653600Z",
     "start_time": "2023-11-25T17:25:41.604114100Z"
    }
   },
   "id": "5cac64f20e604644"
  },
  {
   "cell_type": "raw",
   "source": [
    "### Check for object values"
   ],
   "metadata": {
    "collapsed": false
   },
   "id": "93eb812f08c21395"
  },
  {
   "cell_type": "code",
   "execution_count": 49,
   "outputs": [
    {
     "data": {
      "text/plain": "Index(['fourier_tempogram', 'Label'], dtype='object')"
     },
     "execution_count": 49,
     "metadata": {},
     "output_type": "execute_result"
    }
   ],
   "source": [
    "object_columns = df.select_dtypes(include=['object']).columns\n",
    "object_columns"
   ],
   "metadata": {
    "collapsed": false,
    "ExecuteTime": {
     "end_time": "2023-11-25T17:26:10.138920900Z",
     "start_time": "2023-11-25T17:26:10.109435Z"
    }
   },
   "id": "f19c09a1c381e5b1"
  },
  {
   "cell_type": "raw",
   "source": [
    "### Convert the 'Label' column to numeric values"
   ],
   "metadata": {
    "collapsed": false
   },
   "id": "5f871e68889c30e0"
  },
  {
   "cell_type": "code",
   "execution_count": 50,
   "outputs": [],
   "source": [
    "df['Label'] = df['Label'].astype('int64')"
   ],
   "metadata": {
    "collapsed": false,
    "ExecuteTime": {
     "end_time": "2023-11-25T17:26:13.626669800Z",
     "start_time": "2023-11-25T17:26:13.613356200Z"
    }
   },
   "id": "ad2e3f46d1a4e11d"
  },
  {
   "cell_type": "code",
   "execution_count": 51,
   "outputs": [
    {
     "data": {
      "text/plain": "0         (0.3276304304599762+0.02266499027609825j)\n1       (0.4535762667655945-0.0053963325917720795j)\n2        (0.2704409956932068-0.004409016575664282j)\n3        (0.24510568380355835-0.06169594079256058j)\n4         (0.2566556930541992-0.04115929454565048j)\n                           ...                     \n8727    (0.4560413062572479+0.0012621254427358508j)\n8728    (0.44239211082458496-0.000281495857052505j)\n8729     (0.4610893130302429+0.006387857720255852j)\n8730     (0.4551824927330017-0.006821506191045046j)\n8731     (0.450885146856308+0.0021665075328201056j)\nName: fourier_tempogram, Length: 8732, dtype: object"
     },
     "execution_count": 51,
     "metadata": {},
     "output_type": "execute_result"
    }
   ],
   "source": [
    "df['fourier_tempogram']"
   ],
   "metadata": {
    "collapsed": false,
    "ExecuteTime": {
     "end_time": "2023-11-25T17:26:30.380558100Z",
     "start_time": "2023-11-25T17:26:30.346700800Z"
    }
   },
   "id": "ff62029e4b0d3140"
  },
  {
   "cell_type": "markdown",
   "source": [
    "### Check interval of the values per column"
   ],
   "metadata": {
    "collapsed": false
   },
   "id": "a100958047e33f6a"
  },
  {
   "cell_type": "code",
   "execution_count": 7,
   "outputs": [
    {
     "data": {
      "text/plain": "     chroma_stft  chroma_cqt  chroma_cens  melspectogram       rms  \\\nmin     0.008760    0.118011     0.126660       0.017318  0.001788   \nmax     0.845297    0.796146     0.286841      65.208150  0.579545   \n\n         centroid    bandwidth   contrast      flatness       rolloff  ...  \\\nmin     49.252793    66.012024   3.938343  1.648695e-07     81.951002  ...   \nmax  10907.707763  7532.173550  29.609336  9.798845e-01  18628.717306  ...   \n\n      mcffs_31   mcffs_32   mcffs_33   mcffs_34   mcffs_35   mcffs_36  \\\nmin -20.268456 -12.144473 -19.343061 -28.116508 -16.987791 -14.576315   \nmax  19.353420  19.055628  15.425904  22.999128  20.503590  26.710932   \n\n      mcffs_37   mcffs_38   mcffs_39   mcffs_40  \nmin -36.001620 -23.080887 -25.212177 -13.395362  \nmax  23.912758  17.683758  17.977505  30.761436  \n\n[2 rows x 51 columns]",
      "text/html": "<div>\n<style scoped>\n    .dataframe tbody tr th:only-of-type {\n        vertical-align: middle;\n    }\n\n    .dataframe tbody tr th {\n        vertical-align: top;\n    }\n\n    .dataframe thead th {\n        text-align: right;\n    }\n</style>\n<table border=\"1\" class=\"dataframe\">\n  <thead>\n    <tr style=\"text-align: right;\">\n      <th></th>\n      <th>chroma_stft</th>\n      <th>chroma_cqt</th>\n      <th>chroma_cens</th>\n      <th>melspectogram</th>\n      <th>rms</th>\n      <th>centroid</th>\n      <th>bandwidth</th>\n      <th>contrast</th>\n      <th>flatness</th>\n      <th>rolloff</th>\n      <th>...</th>\n      <th>mcffs_31</th>\n      <th>mcffs_32</th>\n      <th>mcffs_33</th>\n      <th>mcffs_34</th>\n      <th>mcffs_35</th>\n      <th>mcffs_36</th>\n      <th>mcffs_37</th>\n      <th>mcffs_38</th>\n      <th>mcffs_39</th>\n      <th>mcffs_40</th>\n    </tr>\n  </thead>\n  <tbody>\n    <tr>\n      <th>min</th>\n      <td>0.008760</td>\n      <td>0.118011</td>\n      <td>0.126660</td>\n      <td>0.017318</td>\n      <td>0.001788</td>\n      <td>49.252793</td>\n      <td>66.012024</td>\n      <td>3.938343</td>\n      <td>1.648695e-07</td>\n      <td>81.951002</td>\n      <td>...</td>\n      <td>-20.268456</td>\n      <td>-12.144473</td>\n      <td>-19.343061</td>\n      <td>-28.116508</td>\n      <td>-16.987791</td>\n      <td>-14.576315</td>\n      <td>-36.001620</td>\n      <td>-23.080887</td>\n      <td>-25.212177</td>\n      <td>-13.395362</td>\n    </tr>\n    <tr>\n      <th>max</th>\n      <td>0.845297</td>\n      <td>0.796146</td>\n      <td>0.286841</td>\n      <td>65.208150</td>\n      <td>0.579545</td>\n      <td>10907.707763</td>\n      <td>7532.173550</td>\n      <td>29.609336</td>\n      <td>9.798845e-01</td>\n      <td>18628.717306</td>\n      <td>...</td>\n      <td>19.353420</td>\n      <td>19.055628</td>\n      <td>15.425904</td>\n      <td>22.999128</td>\n      <td>20.503590</td>\n      <td>26.710932</td>\n      <td>23.912758</td>\n      <td>17.683758</td>\n      <td>17.977505</td>\n      <td>30.761436</td>\n    </tr>\n  </tbody>\n</table>\n<p>2 rows × 51 columns</p>\n</div>"
     },
     "execution_count": 7,
     "metadata": {},
     "output_type": "execute_result"
    }
   ],
   "source": [
    "column_intervals = df.describe().loc[['min', 'max']]\n",
    "column_intervals"
   ],
   "metadata": {
    "collapsed": false,
    "ExecuteTime": {
     "end_time": "2023-11-24T16:57:40.515466400Z",
     "start_time": "2023-11-24T16:57:40.328404800Z"
    }
   },
   "id": "407fb27058a8d22b"
  },
  {
   "cell_type": "raw",
   "source": [
    "### The values are not in the same range, so we need to normalize them"
   ],
   "metadata": {
    "collapsed": false
   },
   "id": "f0a38504dfa79ad2"
  },
  {
   "cell_type": "code",
   "execution_count": 9,
   "outputs": [
    {
     "ename": "TypeError",
     "evalue": "unsupported operand type(s) for -: 'str' and 'str'",
     "output_type": "error",
     "traceback": [
      "\u001B[1;31m---------------------------------------------------------------------------\u001B[0m",
      "\u001B[1;31mTypeError\u001B[0m                                 Traceback (most recent call last)",
      "File \u001B[1;32m~\\anaconda3\\envs\\AC2\\Lib\\site-packages\\pandas\\core\\ops\\array_ops.py:220\u001B[0m, in \u001B[0;36m_na_arithmetic_op\u001B[1;34m(left, right, op, is_cmp)\u001B[0m\n\u001B[0;32m    219\u001B[0m \u001B[38;5;28;01mtry\u001B[39;00m:\n\u001B[1;32m--> 220\u001B[0m     result \u001B[38;5;241m=\u001B[39m func(left, right)\n\u001B[0;32m    221\u001B[0m \u001B[38;5;28;01mexcept\u001B[39;00m \u001B[38;5;167;01mTypeError\u001B[39;00m:\n",
      "File \u001B[1;32m~\\anaconda3\\envs\\AC2\\Lib\\site-packages\\pandas\\core\\computation\\expressions.py:242\u001B[0m, in \u001B[0;36mevaluate\u001B[1;34m(op, a, b, use_numexpr)\u001B[0m\n\u001B[0;32m    240\u001B[0m     \u001B[38;5;28;01mif\u001B[39;00m use_numexpr:\n\u001B[0;32m    241\u001B[0m         \u001B[38;5;66;03m# error: \"None\" not callable\u001B[39;00m\n\u001B[1;32m--> 242\u001B[0m         \u001B[38;5;28;01mreturn\u001B[39;00m _evaluate(op, op_str, a, b)  \u001B[38;5;66;03m# type: ignore[misc]\u001B[39;00m\n\u001B[0;32m    243\u001B[0m \u001B[38;5;28;01mreturn\u001B[39;00m _evaluate_standard(op, op_str, a, b)\n",
      "File \u001B[1;32m~\\anaconda3\\envs\\AC2\\Lib\\site-packages\\pandas\\core\\computation\\expressions.py:131\u001B[0m, in \u001B[0;36m_evaluate_numexpr\u001B[1;34m(op, op_str, a, b)\u001B[0m\n\u001B[0;32m    130\u001B[0m \u001B[38;5;28;01mif\u001B[39;00m result \u001B[38;5;129;01mis\u001B[39;00m \u001B[38;5;28;01mNone\u001B[39;00m:\n\u001B[1;32m--> 131\u001B[0m     result \u001B[38;5;241m=\u001B[39m _evaluate_standard(op, op_str, a, b)\n\u001B[0;32m    133\u001B[0m \u001B[38;5;28;01mreturn\u001B[39;00m result\n",
      "File \u001B[1;32m~\\anaconda3\\envs\\AC2\\Lib\\site-packages\\pandas\\core\\computation\\expressions.py:73\u001B[0m, in \u001B[0;36m_evaluate_standard\u001B[1;34m(op, op_str, a, b)\u001B[0m\n\u001B[0;32m     72\u001B[0m     _store_test_result(\u001B[38;5;28;01mFalse\u001B[39;00m)\n\u001B[1;32m---> 73\u001B[0m \u001B[38;5;28;01mreturn\u001B[39;00m op(a, b)\n",
      "\u001B[1;31mTypeError\u001B[0m: unsupported operand type(s) for -: 'str' and 'str'",
      "\nDuring handling of the above exception, another exception occurred:\n",
      "\u001B[1;31mTypeError\u001B[0m                                 Traceback (most recent call last)",
      "Cell \u001B[1;32mIn[9], line 1\u001B[0m\n\u001B[1;32m----> 1\u001B[0m df[df\u001B[38;5;241m.\u001B[39mcolumns\u001B[38;5;241m.\u001B[39mdifference([\u001B[38;5;124m'\u001B[39m\u001B[38;5;124mLabel\u001B[39m\u001B[38;5;124m'\u001B[39m])] \u001B[38;5;241m=\u001B[39m (df[df\u001B[38;5;241m.\u001B[39mcolumns\u001B[38;5;241m.\u001B[39mdifference([\u001B[38;5;124m'\u001B[39m\u001B[38;5;124mLabel\u001B[39m\u001B[38;5;124m'\u001B[39m])] \u001B[38;5;241m-\u001B[39m df[df\u001B[38;5;241m.\u001B[39mcolumns\u001B[38;5;241m.\u001B[39mdifference([\u001B[38;5;124m'\u001B[39m\u001B[38;5;124mLable\u001B[39m\u001B[38;5;124m'\u001B[39m])]\u001B[38;5;241m.\u001B[39mmin()) \u001B[38;5;241m/\u001B[39m (df[df\u001B[38;5;241m.\u001B[39mcolumns\u001B[38;5;241m.\u001B[39mdifference([\u001B[38;5;124m'\u001B[39m\u001B[38;5;124mLabel\u001B[39m\u001B[38;5;124m'\u001B[39m])]\u001B[38;5;241m.\u001B[39mmax() \u001B[38;5;241m-\u001B[39m df[df\u001B[38;5;241m.\u001B[39mcolumns\u001B[38;5;241m.\u001B[39mdifference([\u001B[38;5;124m'\u001B[39m\u001B[38;5;124mLabel\u001B[39m\u001B[38;5;124m'\u001B[39m])]\u001B[38;5;241m.\u001B[39mmin())\n\u001B[0;32m      2\u001B[0m df[df\u001B[38;5;241m.\u001B[39mcolumns\u001B[38;5;241m.\u001B[39mdifference([\u001B[38;5;124m'\u001B[39m\u001B[38;5;124mLabel\u001B[39m\u001B[38;5;124m'\u001B[39m])]\n",
      "File \u001B[1;32m~\\anaconda3\\envs\\AC2\\Lib\\site-packages\\pandas\\core\\ops\\common.py:76\u001B[0m, in \u001B[0;36m_unpack_zerodim_and_defer.<locals>.new_method\u001B[1;34m(self, other)\u001B[0m\n\u001B[0;32m     72\u001B[0m             \u001B[38;5;28;01mreturn\u001B[39;00m \u001B[38;5;28mNotImplemented\u001B[39m\n\u001B[0;32m     74\u001B[0m other \u001B[38;5;241m=\u001B[39m item_from_zerodim(other)\n\u001B[1;32m---> 76\u001B[0m \u001B[38;5;28;01mreturn\u001B[39;00m method(\u001B[38;5;28mself\u001B[39m, other)\n",
      "File \u001B[1;32m~\\anaconda3\\envs\\AC2\\Lib\\site-packages\\pandas\\core\\arraylike.py:194\u001B[0m, in \u001B[0;36mOpsMixin.__sub__\u001B[1;34m(self, other)\u001B[0m\n\u001B[0;32m    192\u001B[0m \u001B[38;5;129m@unpack_zerodim_and_defer\u001B[39m(\u001B[38;5;124m\"\u001B[39m\u001B[38;5;124m__sub__\u001B[39m\u001B[38;5;124m\"\u001B[39m)\n\u001B[0;32m    193\u001B[0m \u001B[38;5;28;01mdef\u001B[39;00m \u001B[38;5;21m__sub__\u001B[39m(\u001B[38;5;28mself\u001B[39m, other):\n\u001B[1;32m--> 194\u001B[0m     \u001B[38;5;28;01mreturn\u001B[39;00m \u001B[38;5;28mself\u001B[39m\u001B[38;5;241m.\u001B[39m_arith_method(other, operator\u001B[38;5;241m.\u001B[39msub)\n",
      "File \u001B[1;32m~\\anaconda3\\envs\\AC2\\Lib\\site-packages\\pandas\\core\\frame.py:7647\u001B[0m, in \u001B[0;36mDataFrame._arith_method\u001B[1;34m(self, other, op)\u001B[0m\n\u001B[0;32m   7644\u001B[0m \u001B[38;5;28mself\u001B[39m, other \u001B[38;5;241m=\u001B[39m \u001B[38;5;28mself\u001B[39m\u001B[38;5;241m.\u001B[39m_align_for_op(other, axis, flex\u001B[38;5;241m=\u001B[39m\u001B[38;5;28;01mTrue\u001B[39;00m, level\u001B[38;5;241m=\u001B[39m\u001B[38;5;28;01mNone\u001B[39;00m)\n\u001B[0;32m   7646\u001B[0m \u001B[38;5;28;01mwith\u001B[39;00m np\u001B[38;5;241m.\u001B[39merrstate(\u001B[38;5;28mall\u001B[39m\u001B[38;5;241m=\u001B[39m\u001B[38;5;124m\"\u001B[39m\u001B[38;5;124mignore\u001B[39m\u001B[38;5;124m\"\u001B[39m):\n\u001B[1;32m-> 7647\u001B[0m     new_data \u001B[38;5;241m=\u001B[39m \u001B[38;5;28mself\u001B[39m\u001B[38;5;241m.\u001B[39m_dispatch_frame_op(other, op, axis\u001B[38;5;241m=\u001B[39maxis)\n\u001B[0;32m   7648\u001B[0m \u001B[38;5;28;01mreturn\u001B[39;00m \u001B[38;5;28mself\u001B[39m\u001B[38;5;241m.\u001B[39m_construct_result(new_data)\n",
      "File \u001B[1;32m~\\anaconda3\\envs\\AC2\\Lib\\site-packages\\pandas\\core\\frame.py:7690\u001B[0m, in \u001B[0;36mDataFrame._dispatch_frame_op\u001B[1;34m(self, right, func, axis)\u001B[0m\n\u001B[0;32m   7684\u001B[0m     \u001B[38;5;28;01massert\u001B[39;00m \u001B[38;5;28mself\u001B[39m\u001B[38;5;241m.\u001B[39mcolumns\u001B[38;5;241m.\u001B[39mequals(right\u001B[38;5;241m.\u001B[39mcolumns)\n\u001B[0;32m   7685\u001B[0m     \u001B[38;5;66;03m# TODO: The previous assertion `assert right._indexed_same(self)`\u001B[39;00m\n\u001B[0;32m   7686\u001B[0m     \u001B[38;5;66;03m#  fails in cases with empty columns reached via\u001B[39;00m\n\u001B[0;32m   7687\u001B[0m     \u001B[38;5;66;03m#  _frame_arith_method_with_reindex\u001B[39;00m\n\u001B[0;32m   7688\u001B[0m \n\u001B[0;32m   7689\u001B[0m     \u001B[38;5;66;03m# TODO operate_blockwise expects a manager of the same type\u001B[39;00m\n\u001B[1;32m-> 7690\u001B[0m     bm \u001B[38;5;241m=\u001B[39m \u001B[38;5;28mself\u001B[39m\u001B[38;5;241m.\u001B[39m_mgr\u001B[38;5;241m.\u001B[39moperate_blockwise(\n\u001B[0;32m   7691\u001B[0m         \u001B[38;5;66;03m# error: Argument 1 to \"operate_blockwise\" of \"ArrayManager\" has\u001B[39;00m\n\u001B[0;32m   7692\u001B[0m         \u001B[38;5;66;03m# incompatible type \"Union[ArrayManager, BlockManager]\"; expected\u001B[39;00m\n\u001B[0;32m   7693\u001B[0m         \u001B[38;5;66;03m# \"ArrayManager\"\u001B[39;00m\n\u001B[0;32m   7694\u001B[0m         \u001B[38;5;66;03m# error: Argument 1 to \"operate_blockwise\" of \"BlockManager\" has\u001B[39;00m\n\u001B[0;32m   7695\u001B[0m         \u001B[38;5;66;03m# incompatible type \"Union[ArrayManager, BlockManager]\"; expected\u001B[39;00m\n\u001B[0;32m   7696\u001B[0m         \u001B[38;5;66;03m# \"BlockManager\"\u001B[39;00m\n\u001B[0;32m   7697\u001B[0m         right\u001B[38;5;241m.\u001B[39m_mgr,  \u001B[38;5;66;03m# type: ignore[arg-type]\u001B[39;00m\n\u001B[0;32m   7698\u001B[0m         array_op,\n\u001B[0;32m   7699\u001B[0m     )\n\u001B[0;32m   7700\u001B[0m     \u001B[38;5;28;01mreturn\u001B[39;00m \u001B[38;5;28mself\u001B[39m\u001B[38;5;241m.\u001B[39m_constructor_from_mgr(bm, axes\u001B[38;5;241m=\u001B[39mbm\u001B[38;5;241m.\u001B[39maxes)\n\u001B[0;32m   7702\u001B[0m \u001B[38;5;28;01melif\u001B[39;00m \u001B[38;5;28misinstance\u001B[39m(right, Series) \u001B[38;5;129;01mand\u001B[39;00m axis \u001B[38;5;241m==\u001B[39m \u001B[38;5;241m1\u001B[39m:\n\u001B[0;32m   7703\u001B[0m     \u001B[38;5;66;03m# axis=1 means we want to operate row-by-row\u001B[39;00m\n",
      "File \u001B[1;32m~\\anaconda3\\envs\\AC2\\Lib\\site-packages\\pandas\\core\\internals\\managers.py:1470\u001B[0m, in \u001B[0;36mBlockManager.operate_blockwise\u001B[1;34m(self, other, array_op)\u001B[0m\n\u001B[0;32m   1466\u001B[0m \u001B[38;5;28;01mdef\u001B[39;00m \u001B[38;5;21moperate_blockwise\u001B[39m(\u001B[38;5;28mself\u001B[39m, other: BlockManager, array_op) \u001B[38;5;241m-\u001B[39m\u001B[38;5;241m>\u001B[39m BlockManager:\n\u001B[0;32m   1467\u001B[0m \u001B[38;5;250m    \u001B[39m\u001B[38;5;124;03m\"\"\"\u001B[39;00m\n\u001B[0;32m   1468\u001B[0m \u001B[38;5;124;03m    Apply array_op blockwise with another (aligned) BlockManager.\u001B[39;00m\n\u001B[0;32m   1469\u001B[0m \u001B[38;5;124;03m    \"\"\"\u001B[39;00m\n\u001B[1;32m-> 1470\u001B[0m     \u001B[38;5;28;01mreturn\u001B[39;00m operate_blockwise(\u001B[38;5;28mself\u001B[39m, other, array_op)\n",
      "File \u001B[1;32m~\\anaconda3\\envs\\AC2\\Lib\\site-packages\\pandas\\core\\internals\\ops.py:65\u001B[0m, in \u001B[0;36moperate_blockwise\u001B[1;34m(left, right, array_op)\u001B[0m\n\u001B[0;32m     63\u001B[0m res_blks: \u001B[38;5;28mlist\u001B[39m[Block] \u001B[38;5;241m=\u001B[39m []\n\u001B[0;32m     64\u001B[0m \u001B[38;5;28;01mfor\u001B[39;00m lvals, rvals, locs, left_ea, right_ea, rblk \u001B[38;5;129;01min\u001B[39;00m _iter_block_pairs(left, right):\n\u001B[1;32m---> 65\u001B[0m     res_values \u001B[38;5;241m=\u001B[39m array_op(lvals, rvals)\n\u001B[0;32m     66\u001B[0m     \u001B[38;5;28;01mif\u001B[39;00m (\n\u001B[0;32m     67\u001B[0m         left_ea\n\u001B[0;32m     68\u001B[0m         \u001B[38;5;129;01mand\u001B[39;00m \u001B[38;5;129;01mnot\u001B[39;00m right_ea\n\u001B[0;32m     69\u001B[0m         \u001B[38;5;129;01mand\u001B[39;00m \u001B[38;5;28mhasattr\u001B[39m(res_values, \u001B[38;5;124m\"\u001B[39m\u001B[38;5;124mreshape\u001B[39m\u001B[38;5;124m\"\u001B[39m)\n\u001B[0;32m     70\u001B[0m         \u001B[38;5;129;01mand\u001B[39;00m \u001B[38;5;129;01mnot\u001B[39;00m is_1d_only_ea_dtype(res_values\u001B[38;5;241m.\u001B[39mdtype)\n\u001B[0;32m     71\u001B[0m     ):\n\u001B[0;32m     72\u001B[0m         res_values \u001B[38;5;241m=\u001B[39m res_values\u001B[38;5;241m.\u001B[39mreshape(\u001B[38;5;241m1\u001B[39m, \u001B[38;5;241m-\u001B[39m\u001B[38;5;241m1\u001B[39m)\n",
      "File \u001B[1;32m~\\anaconda3\\envs\\AC2\\Lib\\site-packages\\pandas\\core\\ops\\array_ops.py:285\u001B[0m, in \u001B[0;36marithmetic_op\u001B[1;34m(left, right, op)\u001B[0m\n\u001B[0;32m    281\u001B[0m     _bool_arith_check(op, left, right)  \u001B[38;5;66;03m# type: ignore[arg-type]\u001B[39;00m\n\u001B[0;32m    283\u001B[0m     \u001B[38;5;66;03m# error: Argument 1 to \"_na_arithmetic_op\" has incompatible type\u001B[39;00m\n\u001B[0;32m    284\u001B[0m     \u001B[38;5;66;03m# \"Union[ExtensionArray, ndarray[Any, Any]]\"; expected \"ndarray[Any, Any]\"\u001B[39;00m\n\u001B[1;32m--> 285\u001B[0m     res_values \u001B[38;5;241m=\u001B[39m _na_arithmetic_op(left, right, op)  \u001B[38;5;66;03m# type: ignore[arg-type]\u001B[39;00m\n\u001B[0;32m    287\u001B[0m \u001B[38;5;28;01mreturn\u001B[39;00m res_values\n",
      "File \u001B[1;32m~\\anaconda3\\envs\\AC2\\Lib\\site-packages\\pandas\\core\\ops\\array_ops.py:229\u001B[0m, in \u001B[0;36m_na_arithmetic_op\u001B[1;34m(left, right, op, is_cmp)\u001B[0m\n\u001B[0;32m    221\u001B[0m \u001B[38;5;28;01mexcept\u001B[39;00m \u001B[38;5;167;01mTypeError\u001B[39;00m:\n\u001B[0;32m    222\u001B[0m     \u001B[38;5;28;01mif\u001B[39;00m \u001B[38;5;129;01mnot\u001B[39;00m is_cmp \u001B[38;5;129;01mand\u001B[39;00m (\n\u001B[0;32m    223\u001B[0m         left\u001B[38;5;241m.\u001B[39mdtype \u001B[38;5;241m==\u001B[39m \u001B[38;5;28mobject\u001B[39m \u001B[38;5;129;01mor\u001B[39;00m \u001B[38;5;28mgetattr\u001B[39m(right, \u001B[38;5;124m\"\u001B[39m\u001B[38;5;124mdtype\u001B[39m\u001B[38;5;124m\"\u001B[39m, \u001B[38;5;28;01mNone\u001B[39;00m) \u001B[38;5;241m==\u001B[39m \u001B[38;5;28mobject\u001B[39m\n\u001B[0;32m    224\u001B[0m     ):\n\u001B[1;32m   (...)\u001B[0m\n\u001B[0;32m    227\u001B[0m         \u001B[38;5;66;03m# Don't do this for comparisons, as that will handle complex numbers\u001B[39;00m\n\u001B[0;32m    228\u001B[0m         \u001B[38;5;66;03m#  incorrectly, see GH#32047\u001B[39;00m\n\u001B[1;32m--> 229\u001B[0m         result \u001B[38;5;241m=\u001B[39m _masked_arith_op(left, right, op)\n\u001B[0;32m    230\u001B[0m     \u001B[38;5;28;01melse\u001B[39;00m:\n\u001B[0;32m    231\u001B[0m         \u001B[38;5;28;01mraise\u001B[39;00m\n",
      "File \u001B[1;32m~\\anaconda3\\envs\\AC2\\Lib\\site-packages\\pandas\\core\\ops\\array_ops.py:165\u001B[0m, in \u001B[0;36m_masked_arith_op\u001B[1;34m(x, y, op)\u001B[0m\n\u001B[0;32m    163\u001B[0m     \u001B[38;5;66;03m# See GH#5284, GH#5035, GH#19448 for historical reference\u001B[39;00m\n\u001B[0;32m    164\u001B[0m     \u001B[38;5;28;01mif\u001B[39;00m mask\u001B[38;5;241m.\u001B[39many():\n\u001B[1;32m--> 165\u001B[0m         result[mask] \u001B[38;5;241m=\u001B[39m op(xrav[mask], yrav[mask])\n\u001B[0;32m    167\u001B[0m \u001B[38;5;28;01melse\u001B[39;00m:\n\u001B[0;32m    168\u001B[0m     \u001B[38;5;28;01mif\u001B[39;00m \u001B[38;5;129;01mnot\u001B[39;00m is_scalar(y):\n",
      "\u001B[1;31mTypeError\u001B[0m: unsupported operand type(s) for -: 'str' and 'str'"
     ]
    }
   ],
   "source": [
    "df[df.columns.difference(['Label'])] = (df[df.columns.difference(['Label'])] - df[df.columns.difference(['Lable'])].min()) / (df[df.columns.difference(['Label'])].max() - df[df.columns.difference(['Label'])].min())\n",
    "df[df.columns.difference(['Label'])]\n"
   ],
   "metadata": {
    "collapsed": false,
    "ExecuteTime": {
     "end_time": "2023-11-24T17:01:22.461469900Z",
     "start_time": "2023-11-24T17:01:22.288101600Z"
    }
   },
   "id": "1cb25a8e8349f716"
  },
  {
   "cell_type": "markdown",
   "source": [
    "### Check the distribution of the classes"
   ],
   "metadata": {
    "collapsed": false
   },
   "id": "148d274fee790231"
  },
  {
   "cell_type": "code",
   "execution_count": 5,
   "outputs": [
    {
     "data": {
      "text/plain": "<Figure size 800x600 with 1 Axes>",
      "image/png": "[encoded data removed]"
     },
     "metadata": {},
     "output_type": "display_data"
    }
   ],
   "source": [
    "import matplotlib.pyplot as plt\n",
    "\n",
    "class_counts = df['Label'].value_counts()\n",
    "class_labels = class_counts.index\n",
    "class_values = class_counts.values\n",
    "\n",
    "plt.figure(figsize=(8, 6))\n",
    "plt.bar(class_labels, class_values, color='skyblue')\n",
    "plt.xlabel('Class')\n",
    "plt.ylabel('Count')\n",
    "plt.title('Class Distribution')\n",
    "plt.show()"
   ],
   "metadata": {
    "collapsed": false,
    "ExecuteTime": {
     "end_time": "2023-11-24T16:24:38.775159100Z",
     "start_time": "2023-11-24T16:24:38.498329600Z"
    }
   },
   "id": "5ed5f126fe71eadf"
  },
  {
   "cell_type": "raw",
   "source": [
    "### The classes are not balanced, so we will need to balance them in the training set"
   ],
   "metadata": {
    "collapsed": false
   },
   "id": "44b3c9c7be3a3e60"
  },
  {
   "cell_type": "raw",
   "source": [
    "# Model architecture definition"
   ],
   "metadata": {
    "collapsed": false
   },
   "id": "e0e7001a26ccca07"
  },
  {
   "cell_type": "raw",
   "source": [
    "### The classifiers we chose were the following: a classifier based on multilayer perceptron (MLP) and a convolutional neural network (CNN)."
   ],
   "metadata": {
    "collapsed": false
   },
   "id": "73c2f6baa2643e31"
  },
  {
   "cell_type": "raw",
   "source": [
    "## MLP classifier"
   ],
   "metadata": {
    "collapsed": false
   },
   "id": "842546606e006862"
  },
  {
   "cell_type": "raw",
   "source": [
    "number of layers = \n",
    "number of neurons per layer =\n",
    "activation function for each layer =\n"
   ],
   "metadata": {
    "collapsed": false
   },
   "id": "fd262ae433d79f87"
  },
  {
   "cell_type": "raw",
   "source": [
    "## CNN classifier"
   ],
   "metadata": {
    "collapsed": false
   },
   "id": "b5e5baa7ca57c066"
  },
  {
   "cell_type": "raw",
   "source": [
    "type of inputs (1D or 2D)\n",
    "number layers = \n",
    "kinds of layers = \n",
    "filter dimensions = \n",
    "number of feature maps = "
   ],
   "metadata": {
    "collapsed": false
   },
   "id": "233e36409e8cb351"
  }
 ],
 "metadata": {
  "kernelspec": {
   "display_name": "Python 3",
   "language": "python",
   "name": "python3"
  },
  "language_info": {
   "codemirror_mode": {
    "name": "ipython",
    "version": 2
   },
   "file_extension": ".py",
   "mimetype": "text/x-python",
   "name": "python",
   "nbconvert_exporter": "python",
   "pygments_lexer": "ipython2",
   "version": "2.7.6"
  }
 },
 "nbformat": 4,
 "nbformat_minor": 5
}
