{
 "cells": [
  {
   "cell_type": "markdown",
   "metadata": {},
   "source": [
    "FEATURE EXTRACTION EXAMPLE\n",
    "\n",
    "This notebook contains an example of how to extract Mel-frequency cepstral coefficient (MFCC) features from the sound data in the dataset.\n",
    "This example uses parameters similar to those define in the paper: Salamon J, Jacoby C, Bello JP. A dataset and taxonomy for urban sound research. In Proceedings of the 22nd ACM international conference on Multimedia 2014 Nov 3 (pp. 1041-1044).\n",
    "\n",
    "This example peforms the following steps:\n",
    "- Resample the sound recording to a target sampling rate of 44,100 kHz\n",
    "- Zero-pad the sound recording to a duration of 4 seconds\n",
    "- Compute the MFCCs\n",
    "\n",
    "The following example is highly NOT optimized and it may serve just as a starting point for your solution.\n",
    "You are strongly encouraged to consider different paramters and approaches to pre-process the data."
   ]
  },
  {
   "cell_type": "code",
   "execution_count": 11,
   "metadata": {
    "ExecuteTime": {
     "end_time": "2023-11-21T19:31:49.821690Z",
     "start_time": "2023-11-21T19:31:49.797546Z"
    }
   },
   "outputs": [],
   "source": [
    "import matplotlib.pyplot as plt\n",
    "import librosa\n",
    "import numpy as np"
   ]
  },
  {
   "cell_type": "markdown",
   "metadata": {},
   "source": [
    "Finds all .wav flies in fold1"
   ]
  },
  {
   "cell_type": "code",
   "execution_count": 12,
   "metadata": {
    "ExecuteTime": {
     "end_time": "2023-11-21T19:31:49.839933Z",
     "start_time": "2023-11-21T19:31:49.805739Z"
    }
   },
   "outputs": [],
   "source": [
    "_wav_dir_=\"/UrbanSound8K/audio/fold1/\"\n",
    "files = librosa.util.find_files(_wav_dir_)"
   ]
  },
  {
   "cell_type": "markdown",
   "metadata": {},
   "source": [
    "Parameters"
   ]
  },
  {
   "cell_type": "code",
   "execution_count": 13,
   "metadata": {
    "ExecuteTime": {
     "end_time": "2023-11-21T19:31:49.841337Z",
     "start_time": "2023-11-21T19:31:49.808639Z"
    }
   },
   "outputs": [],
   "source": [
    "# resampling freq\n",
    "target_sr =44100\n",
    "\n",
    "# MFCC parameters\n",
    "n_mfcc=40\n",
    "hop_length=round(target_sr*0.0125)\n",
    "win_length=round(target_sr*0.023)\n",
    "n_fft=2**14\n",
    "mfcc_time_size = 4*target_sr//hop_length+1\n",
    "\n",
    "# read all wav file without resampling\n",
    "dataset=np.zeros(shape=[len(files),4*target_sr])\n",
    "dataset_mfcc=np.zeros(shape=[len(files),n_mfcc,mfcc_time_size])"
   ]
  },
  {
   "cell_type": "markdown",
   "metadata": {},
   "source": [
    "Main loop. It might last few minutes"
   ]
  },
  {
   "cell_type": "code",
   "execution_count": 14,
   "metadata": {
    "ExecuteTime": {
     "end_time": "2023-11-21T19:31:49.841496Z",
     "start_time": "2023-11-21T19:31:49.817327Z"
    }
   },
   "outputs": [],
   "source": [
    "i=0\n",
    "for f in files:\n",
    "    (sig, rate) = librosa.load(f, sr=None)\n",
    "    sig_res =librosa.resample(sig, orig_sr=rate, target_sr=target_sr)\n",
    "    # zero padding\n",
    "    if len(sig_res)<4*target_sr:\n",
    "        sig_res_pad = np.concatenate((sig_res, np.zeros(4*target_sr-len(sig_res))),axis=0)\n",
    "    else:\n",
    "        sig_res_pad=sig_res\n",
    "    dataset[i]=sig_res_pad\n",
    "    # computes the MFCCs\n",
    "    sig_mfcc =librosa.feature.mfcc(y=sig_res_pad,sr=target_sr,n_fft=n_fft,hop_length=hop_length,win_length=win_length,n_mfcc=n_mfcc)\n",
    "    dataset_mfcc[i]=sig_mfcc\n",
    "    i+=1"
   ]
  },
  {
   "cell_type": "markdown",
   "metadata": {},
   "source": [
    "Visualization of an example"
   ]
  },
  {
   "cell_type": "code",
   "execution_count": 15,
   "metadata": {
    "ExecuteTime": {
     "end_time": "2023-11-21T19:31:49.856740Z",
     "start_time": "2023-11-21T19:31:49.832476Z"
    }
   },
   "outputs": [
    {
     "ename": "IndexError",
     "evalue": "index 0 is out of bounds for axis 0 with size 0",
     "output_type": "error",
     "traceback": [
      "\u001B[0;31m---------------------------------------------------------------------------\u001B[0m",
      "\u001B[0;31mIndexError\u001B[0m                                Traceback (most recent call last)",
      "Cell \u001B[0;32mIn[15], line 3\u001B[0m\n\u001B[1;32m      1\u001B[0m index\u001B[38;5;241m=\u001B[39m\u001B[38;5;241m0\u001B[39m\n\u001B[1;32m      2\u001B[0m plt\u001B[38;5;241m.\u001B[39mfigure()\n\u001B[0;32m----> 3\u001B[0m plt\u001B[38;5;241m.\u001B[39mplot(np\u001B[38;5;241m.\u001B[39masarray(\u001B[38;5;28mlist\u001B[39m(\u001B[38;5;28mrange\u001B[39m(\u001B[38;5;241m4\u001B[39m\u001B[38;5;241m*\u001B[39mtarget_sr)))\u001B[38;5;241m/\u001B[39mtarget_sr,dataset[index])\n\u001B[1;32m      4\u001B[0m plt\u001B[38;5;241m.\u001B[39mshow()\n\u001B[1;32m      6\u001B[0m plt\u001B[38;5;241m.\u001B[39mfigure()\n",
      "\u001B[0;31mIndexError\u001B[0m: index 0 is out of bounds for axis 0 with size 0"
     ]
    },
    {
     "data": {
      "text/plain": "<Figure size 640x480 with 0 Axes>"
     },
     "metadata": {},
     "output_type": "display_data"
    }
   ],
   "source": [
    "index=0\n",
    "plt.figure()\n",
    "plt.plot(np.asarray(list(range(4*target_sr)))/target_sr,dataset[index])\n",
    "plt.show()\n",
    "\n",
    "plt.figure()\n",
    "plt.imshow(dataset_mfcc[index])\n",
    "plt.show()\n"
   ]
  },
  {
   "cell_type": "code",
   "execution_count": null,
   "outputs": [],
   "source": [],
   "metadata": {
    "collapsed": false,
    "ExecuteTime": {
     "start_time": "2023-11-21T19:31:49.849422Z"
    }
   }
  }
 ],
 "metadata": {
  "kernelspec": {
   "display_name": "Tensorflow_metal",
   "language": "python",
   "name": "python3"
  },
  "language_info": {
   "codemirror_mode": {
    "name": "ipython",
    "version": 3
   },
   "file_extension": ".py",
   "mimetype": "text/x-python",
   "name": "python",
   "nbconvert_exporter": "python",
   "pygments_lexer": "ipython3",
   "version": "3.10.12"
  }
 },
 "nbformat": 4,
 "nbformat_minor": 2
}
