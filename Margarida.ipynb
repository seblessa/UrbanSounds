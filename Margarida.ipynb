{
 "cells": [
  {
   "cell_type": "code",
   "execution_count": 157,
   "outputs": [],
   "source": [
    "import pandas as pd\n",
    "import numpy as np\n",
    "import re\n",
    "from imblearn.over_sampling import SMOTE\n",
    "from sklearn.model_selection import train_test_split\n",
    "from sklearn.preprocessing import StandardScaler, LabelEncoder\n",
    "from sklearn.metrics import accuracy_score\n",
    "from tensorflow.keras.models import Sequential\n",
    "from tensorflow.keras.layers import Conv2D, MaxPooling2D, Flatten, Dense\n",
    "from tensorflow.keras.utils import to_categorical\n",
    "from tensorflow.keras.preprocessing.image import img_to_array, load_img\n",
    "import librosa\n",
    "import librosa.display\n",
    "import matplotlib.pyplot as plt\n"
   ],
   "metadata": {
    "collapsed": false,
    "ExecuteTime": {
     "end_time": "2023-11-27T17:50:23.524671435Z",
     "start_time": "2023-11-27T17:50:23.462223439Z"
    }
   },
   "id": "7fcaa2d03adc38e9"
  },
  {
   "cell_type": "code",
   "execution_count": 158,
   "outputs": [],
   "source": [
    "df = pd.read_csv('urbansounds_features.csv')"
   ],
   "metadata": {
    "collapsed": false,
    "ExecuteTime": {
     "end_time": "2023-11-27T17:50:23.591539949Z",
     "start_time": "2023-11-27T17:50:23.467656880Z"
    }
   },
   "id": "635a411d82634d8a"
  },
  {
   "cell_type": "markdown",
   "source": [
    "### Check interval of the values per column"
   ],
   "metadata": {
    "collapsed": false
   },
   "id": "4969c494326682f5"
  },
  {
   "cell_type": "code",
   "execution_count": 159,
   "outputs": [
    {
     "data": {
      "text/plain": "     chroma_stft  chroma_cqt  chroma_cens  melspectogram       rms  \\\nmin     0.008760    0.118011     0.126660       0.017318  0.001788   \nmax     0.845297    0.796146     0.286841      65.208150  0.579545   \n\n         centroid    bandwidth   contrast      flatness       rolloff  ...  \\\nmin     49.252793    66.012024   3.938343  1.648695e-07     81.951002  ...   \nmax  10907.707763  7532.173550  29.609336  9.798845e-01  18628.717306  ...   \n\n      mcffs_31   mcffs_32   mcffs_33   mcffs_34   mcffs_35   mcffs_36  \\\nmin -20.268456 -12.144473 -19.343061 -28.116508 -16.987791 -14.576315   \nmax  19.353420  19.055628  15.425904  22.999128  20.503590  26.710932   \n\n      mcffs_37   mcffs_38   mcffs_39   mcffs_40  \nmin -36.001620 -23.080887 -25.212177 -13.395362  \nmax  23.912758  17.683758  17.977505  30.761436  \n\n[2 rows x 52 columns]",
      "text/html": "<div>\n<style scoped>\n    .dataframe tbody tr th:only-of-type {\n        vertical-align: middle;\n    }\n\n    .dataframe tbody tr th {\n        vertical-align: top;\n    }\n\n    .dataframe thead th {\n        text-align: right;\n    }\n</style>\n<table border=\"1\" class=\"dataframe\">\n  <thead>\n    <tr style=\"text-align: right;\">\n      <th></th>\n      <th>chroma_stft</th>\n      <th>chroma_cqt</th>\n      <th>chroma_cens</th>\n      <th>melspectogram</th>\n      <th>rms</th>\n      <th>centroid</th>\n      <th>bandwidth</th>\n      <th>contrast</th>\n      <th>flatness</th>\n      <th>rolloff</th>\n      <th>...</th>\n      <th>mcffs_31</th>\n      <th>mcffs_32</th>\n      <th>mcffs_33</th>\n      <th>mcffs_34</th>\n      <th>mcffs_35</th>\n      <th>mcffs_36</th>\n      <th>mcffs_37</th>\n      <th>mcffs_38</th>\n      <th>mcffs_39</th>\n      <th>mcffs_40</th>\n    </tr>\n  </thead>\n  <tbody>\n    <tr>\n      <th>min</th>\n      <td>0.008760</td>\n      <td>0.118011</td>\n      <td>0.126660</td>\n      <td>0.017318</td>\n      <td>0.001788</td>\n      <td>49.252793</td>\n      <td>66.012024</td>\n      <td>3.938343</td>\n      <td>1.648695e-07</td>\n      <td>81.951002</td>\n      <td>...</td>\n      <td>-20.268456</td>\n      <td>-12.144473</td>\n      <td>-19.343061</td>\n      <td>-28.116508</td>\n      <td>-16.987791</td>\n      <td>-14.576315</td>\n      <td>-36.001620</td>\n      <td>-23.080887</td>\n      <td>-25.212177</td>\n      <td>-13.395362</td>\n    </tr>\n    <tr>\n      <th>max</th>\n      <td>0.845297</td>\n      <td>0.796146</td>\n      <td>0.286841</td>\n      <td>65.208150</td>\n      <td>0.579545</td>\n      <td>10907.707763</td>\n      <td>7532.173550</td>\n      <td>29.609336</td>\n      <td>9.798845e-01</td>\n      <td>18628.717306</td>\n      <td>...</td>\n      <td>19.353420</td>\n      <td>19.055628</td>\n      <td>15.425904</td>\n      <td>22.999128</td>\n      <td>20.503590</td>\n      <td>26.710932</td>\n      <td>23.912758</td>\n      <td>17.683758</td>\n      <td>17.977505</td>\n      <td>30.761436</td>\n    </tr>\n  </tbody>\n</table>\n<p>2 rows × 52 columns</p>\n</div>"
     },
     "execution_count": 159,
     "metadata": {},
     "output_type": "execute_result"
    }
   ],
   "source": [
    "column_intervals = df.describe().loc[['min', 'max']]\n",
    "column_intervals"
   ],
   "metadata": {
    "collapsed": false,
    "ExecuteTime": {
     "end_time": "2023-11-27T17:50:23.621878458Z",
     "start_time": "2023-11-27T17:50:23.584387973Z"
    }
   },
   "id": "77e64c041dd26dc8"
  },
  {
   "cell_type": "code",
   "execution_count": 160,
   "outputs": [
    {
     "name": "stdout",
     "output_type": "stream",
     "text": [
      "chroma_stft          float64\n",
      "chroma_cqt           float64\n",
      "chroma_cens          float64\n",
      "melspectogram        float64\n",
      "rms                  float64\n",
      "centroid             float64\n",
      "bandwidth            float64\n",
      "contrast             float64\n",
      "flatness             float64\n",
      "rolloff              float64\n",
      "crossing_rate        float64\n",
      "tempogram            float64\n",
      "fourier_tempogram     object\n",
      "mcffs_1              float64\n",
      "mcffs_2              float64\n",
      "mcffs_3              float64\n",
      "mcffs_4              float64\n",
      "mcffs_5              float64\n",
      "mcffs_6              float64\n",
      "mcffs_7              float64\n",
      "mcffs_8              float64\n",
      "mcffs_9              float64\n",
      "mcffs_10             float64\n",
      "mcffs_11             float64\n",
      "mcffs_12             float64\n",
      "mcffs_13             float64\n",
      "mcffs_14             float64\n",
      "mcffs_15             float64\n",
      "mcffs_16             float64\n",
      "mcffs_17             float64\n",
      "mcffs_18             float64\n",
      "mcffs_19             float64\n",
      "mcffs_20             float64\n",
      "mcffs_21             float64\n",
      "mcffs_22             float64\n",
      "mcffs_23             float64\n",
      "mcffs_24             float64\n",
      "mcffs_25             float64\n",
      "mcffs_26             float64\n",
      "mcffs_27             float64\n",
      "mcffs_28             float64\n",
      "mcffs_29             float64\n",
      "mcffs_30             float64\n",
      "mcffs_31             float64\n",
      "mcffs_32             float64\n",
      "mcffs_33             float64\n",
      "mcffs_34             float64\n",
      "mcffs_35             float64\n",
      "mcffs_36             float64\n",
      "mcffs_37             float64\n",
      "mcffs_38             float64\n",
      "mcffs_39             float64\n",
      "mcffs_40             float64\n",
      "Label                 object\n",
      "dtype: object\n"
     ]
    }
   ],
   "source": [
    "print(df.dtypes)"
   ],
   "metadata": {
    "collapsed": false,
    "ExecuteTime": {
     "end_time": "2023-11-27T17:50:23.651068275Z",
     "start_time": "2023-11-27T17:50:23.611685701Z"
    }
   },
   "id": "a1dafe2f4d9aa620"
  },
  {
   "cell_type": "code",
   "execution_count": 161,
   "outputs": [
    {
     "data": {
      "text/plain": "chroma_stft          0\nchroma_cqt           0\nchroma_cens          0\nmelspectogram        0\nrms                  0\ncentroid             0\nbandwidth            0\ncontrast             0\nflatness             0\nrolloff              0\ncrossing_rate        0\ntempogram            0\nfourier_tempogram    0\nmcffs_1              0\nmcffs_2              0\nmcffs_3              0\nmcffs_4              0\nmcffs_5              0\nmcffs_6              0\nmcffs_7              0\nmcffs_8              0\nmcffs_9              0\nmcffs_10             0\nmcffs_11             0\nmcffs_12             0\nmcffs_13             0\nmcffs_14             0\nmcffs_15             0\nmcffs_16             0\nmcffs_17             0\nmcffs_18             0\nmcffs_19             0\nmcffs_20             0\nmcffs_21             0\nmcffs_22             0\nmcffs_23             0\nmcffs_24             0\nmcffs_25             0\nmcffs_26             0\nmcffs_27             0\nmcffs_28             0\nmcffs_29             0\nmcffs_30             0\nmcffs_31             0\nmcffs_32             0\nmcffs_33             0\nmcffs_34             0\nmcffs_35             0\nmcffs_36             0\nmcffs_37             0\nmcffs_38             0\nmcffs_39             0\nmcffs_40             0\nLabel                0\ndtype: int64"
     },
     "execution_count": 161,
     "metadata": {},
     "output_type": "execute_result"
    }
   ],
   "source": [
    "df.isnull().sum()"
   ],
   "metadata": {
    "collapsed": false,
    "ExecuteTime": {
     "end_time": "2023-11-27T17:50:23.651565854Z",
     "start_time": "2023-11-27T17:50:23.615015367Z"
    }
   },
   "id": "7f17ffc551c1dce3"
  },
  {
   "cell_type": "markdown",
   "source": [
    "### CNN"
   ],
   "metadata": {
    "collapsed": false
   },
   "id": "663c75bdf6a5be0a"
  },
  {
   "cell_type": "code",
   "execution_count": 162,
   "outputs": [],
   "source": [
    "def calculate_mean_from_string(string):\n",
    "    cleaned_string = string.replace('\\n', '')\n",
    "    numbers = re.findall(r\"[-+]?\\d*\\.\\d+|\\d+\", cleaned_string)\n",
    "    array = np.array(numbers, dtype=float)\n",
    "    mean_value = np.mean(array)\n",
    "    return mean_value\n",
    "\n",
    "\n",
    "for column in df.columns:\n",
    "    if column != 'Label':\n",
    "        if df[column].dtype != float and df[column].dtype != int:\n",
    "            df[column] = df[column].apply(calculate_mean_from_string)\n",
    "    else:\n",
    "        df[column] = df[column].str.split('-').str[1].astype(int)"
   ],
   "metadata": {
    "collapsed": false,
    "ExecuteTime": {
     "end_time": "2023-11-27T17:50:23.770320748Z",
     "start_time": "2023-11-27T17:50:23.657642983Z"
    }
   },
   "id": "2450ac20f61526a9"
  },
  {
   "cell_type": "code",
   "execution_count": 163,
   "outputs": [],
   "source": [
    "# Classification\n",
    "X = df.drop('Label', axis=1)\n",
    "y = df['Label']\n",
    "\n",
    "# Split the data into training and testing sets\n",
    "X_train, X_test, y_train, y_test = train_test_split(X, y, test_size=0.2, random_state=42)"
   ],
   "metadata": {
    "collapsed": false,
    "ExecuteTime": {
     "end_time": "2023-11-27T17:50:23.797235490Z",
     "start_time": "2023-11-27T17:50:23.708256618Z"
    }
   },
   "id": "87f4c4d338266e06"
  },
  {
   "cell_type": "code",
   "execution_count": 164,
   "outputs": [
    {
     "name": "stdout",
     "output_type": "stream",
     "text": [
      "Class distribution before SMOTE:\n",
      "Label\n",
      "9    811\n",
      "5    807\n",
      "2    803\n",
      "4    798\n",
      "7    791\n",
      "0    789\n",
      "3    783\n",
      "8    749\n",
      "1    352\n",
      "6    302\n",
      "Name: count, dtype: int64\n"
     ]
    }
   ],
   "source": [
    "# Print class distribution before SMOTE\n",
    "print(\"Class distribution before SMOTE:\")\n",
    "print(pd.Series(y_train).value_counts())"
   ],
   "metadata": {
    "collapsed": false,
    "ExecuteTime": {
     "end_time": "2023-11-27T17:50:23.797656177Z",
     "start_time": "2023-11-27T17:50:23.748491219Z"
    }
   },
   "id": "4e06e032c7a962d7"
  },
  {
   "cell_type": "code",
   "execution_count": 165,
   "outputs": [],
   "source": [
    "# Oversample the features values using SMOTE\n",
    "smote = SMOTE(random_state=42)\n",
    "X_train_resampled, y_train_resampled = smote.fit_resample(X_train, y_train)"
   ],
   "metadata": {
    "collapsed": false,
    "ExecuteTime": {
     "end_time": "2023-11-27T17:50:23.798145210Z",
     "start_time": "2023-11-27T17:50:23.748695059Z"
    }
   },
   "id": "cc0a62baa727bd6b"
  },
  {
   "cell_type": "code",
   "execution_count": 166,
   "outputs": [
    {
     "name": "stdout",
     "output_type": "stream",
     "text": [
      "\n",
      "Class distribution after SMOTE:\n",
      "Label\n",
      "2    811\n",
      "9    811\n",
      "5    811\n",
      "1    811\n",
      "7    811\n",
      "0    811\n",
      "8    811\n",
      "4    811\n",
      "6    811\n",
      "3    811\n",
      "Name: count, dtype: int64\n"
     ]
    }
   ],
   "source": [
    "# Print class distribution after SMOTE\n",
    "print(\"\\nClass distribution after SMOTE:\")\n",
    "print(pd.Series(y_train_resampled).value_counts())"
   ],
   "metadata": {
    "collapsed": false,
    "ExecuteTime": {
     "end_time": "2023-11-27T17:50:23.857045192Z",
     "start_time": "2023-11-27T17:50:23.763224347Z"
    }
   },
   "id": "6503eca756adae53"
  },
  {
   "cell_type": "code",
   "execution_count": 167,
   "outputs": [],
   "source": [
    "# Standardize the feature values\n",
    "scaler = StandardScaler()\n",
    "X_train_scaled = scaler.fit_transform(X_train_resampled)\n",
    "X_test_scaled = scaler.transform(X_test)"
   ],
   "metadata": {
    "collapsed": false,
    "ExecuteTime": {
     "end_time": "2023-11-27T17:50:23.857210242Z",
     "start_time": "2023-11-27T17:50:23.804500018Z"
    }
   },
   "id": "87a4921e15100e04"
  },
  {
   "cell_type": "code",
   "execution_count": 168,
   "outputs": [
    {
     "name": "stdout",
     "output_type": "stream",
     "text": [
      "Before reshaping - Expected size: 859660, Actual size: 429830\n"
     ]
    }
   ],
   "source": [
    "# Check the size before reshaping\n",
    "expected_size = X_train_scaled.shape[0] * 1 * 106 * 1\n",
    "actual_size = X_train_scaled.size\n",
    "print(f\"Before reshaping - Expected size: {expected_size}, Actual size: {actual_size}\")"
   ],
   "metadata": {
    "collapsed": false,
    "ExecuteTime": {
     "end_time": "2023-11-27T17:50:23.857351170Z",
     "start_time": "2023-11-27T17:50:23.804605019Z"
    }
   },
   "id": "8f0f715f6d436114"
  },
  {
   "cell_type": "code",
   "execution_count": 169,
   "outputs": [],
   "source": [
    "# Encode labels to numerical values\n",
    "label_encoder = LabelEncoder()\n",
    "y_train_encoded = label_encoder.fit_transform(y_train_resampled)\n",
    "y_test_encoded = label_encoder.transform(y_test)"
   ],
   "metadata": {
    "collapsed": false,
    "ExecuteTime": {
     "end_time": "2023-11-27T17:50:23.857425222Z",
     "start_time": "2023-11-27T17:50:23.804676472Z"
    }
   },
   "id": "a63229dea0fa55b3"
  },
  {
   "cell_type": "code",
   "execution_count": 174,
   "outputs": [
    {
     "ename": "ValueError",
     "evalue": "cannot reshape array of size 429830 into shape (1,1,106,1)",
     "output_type": "error",
     "traceback": [
      "\u001B[0;31m---------------------------------------------------------------------------\u001B[0m",
      "\u001B[0;31mValueError\u001B[0m                                Traceback (most recent call last)",
      "Cell \u001B[0;32mIn[174], line 2\u001B[0m\n\u001B[1;32m      1\u001B[0m \u001B[38;5;66;03m# Reshape data for CNN\u001B[39;00m\n\u001B[0;32m----> 2\u001B[0m X_train_reshaped \u001B[38;5;241m=\u001B[39m \u001B[43mX_train_scaled\u001B[49m\u001B[38;5;241;43m.\u001B[39;49m\u001B[43mreshape\u001B[49m\u001B[43m(\u001B[49m\u001B[43m(\u001B[49m\u001B[38;5;241;43m1\u001B[39;49m\u001B[43m,\u001B[49m\u001B[43m \u001B[49m\u001B[38;5;241;43m1\u001B[39;49m\u001B[43m,\u001B[49m\u001B[43m \u001B[49m\u001B[38;5;241;43m106\u001B[39;49m\u001B[43m,\u001B[49m\u001B[43m \u001B[49m\u001B[38;5;241;43m1\u001B[39;49m\u001B[43m)\u001B[49m\u001B[43m)\u001B[49m\n\u001B[1;32m      3\u001B[0m X_test_reshaped \u001B[38;5;241m=\u001B[39m X_test_scaled\u001B[38;5;241m.\u001B[39mreshape((X_test_scaled\u001B[38;5;241m.\u001B[39mshape[\u001B[38;5;241m0\u001B[39m], \u001B[38;5;241m1\u001B[39m, \u001B[38;5;241m2\u001B[39m \u001B[38;5;241m*\u001B[39m X_test_scaled\u001B[38;5;241m.\u001B[39mshape[\u001B[38;5;241m1\u001B[39m], \u001B[38;5;241m1\u001B[39m))\n\u001B[1;32m      4\u001B[0m X_train_reshaped\n",
      "\u001B[0;31mValueError\u001B[0m: cannot reshape array of size 429830 into shape (1,1,106,1)"
     ]
    }
   ],
   "source": [
    "# Reshape data for CNN\n",
    "X_train_reshaped = X_train_scaled.reshape((X_train_scaled.size // expected_size, 1, 106, 1))\n",
    "X_test_reshaped = X_test_scaled.reshape((X_test_scaled.shape[0], 1, 2 * X_test_scaled.shape[1], 1))\n",
    "X_train_reshaped"
   ],
   "metadata": {
    "collapsed": false,
    "ExecuteTime": {
     "end_time": "2023-11-27T18:12:14.224014982Z",
     "start_time": "2023-11-27T18:12:14.182042373Z"
    }
   },
   "id": "98b2ffd6e7d166eb"
  },
  {
   "cell_type": "code",
   "execution_count": null,
   "outputs": [],
   "source": [
    "# Check the size after reshaping\n",
    "expected_size_reshaped = X_train_reshaped.shape[0] * 1 * 106 * 1\n",
    "actual_size_reshaped = X_train_reshaped.size\n",
    "print(f\"After reshaping - Expected size: {expected_size_reshaped}, Actual size: {actual_size_reshaped}\")"
   ],
   "metadata": {
    "collapsed": false,
    "ExecuteTime": {
     "start_time": "2023-11-27T17:50:23.811911207Z"
    }
   },
   "id": "2232cc08fe4f8993"
  },
  {
   "cell_type": "code",
   "execution_count": null,
   "outputs": [],
   "source": [
    "X_test_reshaped"
   ],
   "metadata": {
    "collapsed": false,
    "ExecuteTime": {
     "start_time": "2023-11-27T17:50:23.852466274Z"
    }
   },
   "id": "7a12de2fbf201eb1"
  },
  {
   "cell_type": "code",
   "execution_count": null,
   "outputs": [],
   "source": [
    "# Convert labels to categorical one-hot encoding\n",
    "y_train_onehot = to_categorical(y_train_encoded)\n",
    "y_test_onehot = to_categorical(y_test_encoded)"
   ],
   "metadata": {
    "collapsed": false,
    "ExecuteTime": {
     "start_time": "2023-11-27T17:50:23.852607898Z"
    }
   },
   "id": "e51da823925ddced"
  },
  {
   "cell_type": "code",
   "execution_count": null,
   "outputs": [],
   "source": [
    "# Define the CNN model with different activation functions for hidden layers\n",
    "activation_functions = ['relu', 'sigmoid']\n",
    "\n",
    "results = []\n",
    "\n",
    "for activation1 in activation_functions:\n",
    "    for activation2 in activation_functions:\n",
    "        # Define the CNN model\n",
    "        model = Sequential()\n",
    "        model.add(Conv2D(32, (3, 3), activation='relu', input_shape=(1, 2 * X_train_scaled.shape[1], 1)))\n",
    "        model.add(MaxPooling2D((2, 2)))\n",
    "        model.add(Conv2D(64, (3, 3), activation=activation1))\n",
    "        model.add(MaxPooling2D((2, 2)))\n",
    "        model.add(Conv2D(64, (3, 3), activation=activation2))\n",
    "        model.add(Flatten())\n",
    "        model.add(Dense(64, activation=activation1))\n",
    "        model.add(Dense(y_train_onehot.shape[1], activation='sigmoid'))  # Sigmoid for the output layer\n",
    "\n",
    "        # Compile the model\n",
    "        model.compile(optimizer='adam', loss='categorical_crossentropy', metrics=['accuracy'])\n",
    "\n",
    "        # Train the model\n",
    "        history = model.fit(X_train_reshaped, y_train_onehot, epochs=10, validation_split=0.2)\n",
    "\n",
    "        # Evaluate the model on the test set\n",
    "        test_loss, test_acc = model.evaluate(X_test_reshaped, y_test_onehot)\n",
    "        print(f'Test accuracy for {activation1}-{activation2}: {test_acc}')\n",
    "\n",
    "        # Save results for comparison\n",
    "        results.append({\n",
    "            'activation1': activation1,\n",
    "            'activation2': activation2,\n",
    "            'test_acc': test_acc,\n",
    "            'history': history.history\n",
    "        })"
   ],
   "metadata": {
    "collapsed": false,
    "ExecuteTime": {
     "start_time": "2023-11-27T17:50:23.852694846Z"
    }
   },
   "id": "fb36befdf54f12ee"
  }
 ],
 "metadata": {
  "kernelspec": {
   "display_name": "Python 3",
   "language": "python",
   "name": "python3"
  },
  "language_info": {
   "codemirror_mode": {
    "name": "ipython",
    "version": 2
   },
   "file_extension": ".py",
   "mimetype": "text/x-python",
   "name": "python",
   "nbconvert_exporter": "python",
   "pygments_lexer": "ipython2",
   "version": "2.7.6"
  }
 },
 "nbformat": 4,
 "nbformat_minor": 5
}
