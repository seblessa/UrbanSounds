{
 "cells": [
  {
   "cell_type": "code",
   "execution_count": 25,
   "outputs": [],
   "source": [
    "import pandas as pd\n",
    "import numpy as np\n",
    "import re\n",
    "from imblearn.over_sampling import SMOTE\n",
    "from sklearn.model_selection import train_test_split\n",
    "from sklearn.preprocessing import StandardScaler, LabelEncoder\n",
    "from sklearn.metrics import accuracy_score\n",
    "from tensorflow.keras.models import Sequential\n",
    "from tensorflow.keras.layers import Conv2D, MaxPooling2D, Flatten, Dense\n",
    "from tensorflow.keras.utils import to_categorical\n",
    "from tensorflow.keras.preprocessing.image import img_to_array, load_img"
   ],
   "metadata": {
    "collapsed": false,
    "ExecuteTime": {
     "end_time": "2023-11-26T21:08:03.859724344Z",
     "start_time": "2023-11-26T21:08:03.795223900Z"
    }
   },
   "id": "7fcaa2d03adc38e9"
  },
  {
   "cell_type": "code",
   "execution_count": 26,
   "outputs": [],
   "source": [
    "df = pd.read_csv('urbansounds_features.csv')"
   ],
   "metadata": {
    "collapsed": false,
    "ExecuteTime": {
     "end_time": "2023-11-26T21:08:04.028496256Z",
     "start_time": "2023-11-26T21:08:03.801528969Z"
    }
   },
   "id": "635a411d82634d8a"
  },
  {
   "cell_type": "markdown",
   "source": [
    "### Check interval of the values per column"
   ],
   "metadata": {
    "collapsed": false
   },
   "id": "4969c494326682f5"
  },
  {
   "cell_type": "code",
   "execution_count": 27,
   "outputs": [
    {
     "data": {
      "text/plain": "     chroma_stft  chroma_cqt  chroma_cens  melspectogram       rms  \\\nmin     0.008760    0.118011     0.126660       0.017318  0.001788   \nmax     0.845297    0.796146     0.286841      65.208150  0.579545   \n\n         centroid    bandwidth   contrast      flatness       rolloff  ...  \\\nmin     49.252793    66.012024   3.938343  1.648695e-07     81.951002  ...   \nmax  10907.707763  7532.173550  29.609336  9.798845e-01  18628.717306  ...   \n\n      mcffs_31   mcffs_32   mcffs_33   mcffs_34   mcffs_35   mcffs_36  \\\nmin -20.268456 -12.144473 -19.343061 -28.116508 -16.987791 -14.576315   \nmax  19.353420  19.055628  15.425904  22.999128  20.503590  26.710932   \n\n      mcffs_37   mcffs_38   mcffs_39   mcffs_40  \nmin -36.001620 -23.080887 -25.212177 -13.395362  \nmax  23.912758  17.683758  17.977505  30.761436  \n\n[2 rows x 52 columns]",
      "text/html": "<div>\n<style scoped>\n    .dataframe tbody tr th:only-of-type {\n        vertical-align: middle;\n    }\n\n    .dataframe tbody tr th {\n        vertical-align: top;\n    }\n\n    .dataframe thead th {\n        text-align: right;\n    }\n</style>\n<table border=\"1\" class=\"dataframe\">\n  <thead>\n    <tr style=\"text-align: right;\">\n      <th></th>\n      <th>chroma_stft</th>\n      <th>chroma_cqt</th>\n      <th>chroma_cens</th>\n      <th>melspectogram</th>\n      <th>rms</th>\n      <th>centroid</th>\n      <th>bandwidth</th>\n      <th>contrast</th>\n      <th>flatness</th>\n      <th>rolloff</th>\n      <th>...</th>\n      <th>mcffs_31</th>\n      <th>mcffs_32</th>\n      <th>mcffs_33</th>\n      <th>mcffs_34</th>\n      <th>mcffs_35</th>\n      <th>mcffs_36</th>\n      <th>mcffs_37</th>\n      <th>mcffs_38</th>\n      <th>mcffs_39</th>\n      <th>mcffs_40</th>\n    </tr>\n  </thead>\n  <tbody>\n    <tr>\n      <th>min</th>\n      <td>0.008760</td>\n      <td>0.118011</td>\n      <td>0.126660</td>\n      <td>0.017318</td>\n      <td>0.001788</td>\n      <td>49.252793</td>\n      <td>66.012024</td>\n      <td>3.938343</td>\n      <td>1.648695e-07</td>\n      <td>81.951002</td>\n      <td>...</td>\n      <td>-20.268456</td>\n      <td>-12.144473</td>\n      <td>-19.343061</td>\n      <td>-28.116508</td>\n      <td>-16.987791</td>\n      <td>-14.576315</td>\n      <td>-36.001620</td>\n      <td>-23.080887</td>\n      <td>-25.212177</td>\n      <td>-13.395362</td>\n    </tr>\n    <tr>\n      <th>max</th>\n      <td>0.845297</td>\n      <td>0.796146</td>\n      <td>0.286841</td>\n      <td>65.208150</td>\n      <td>0.579545</td>\n      <td>10907.707763</td>\n      <td>7532.173550</td>\n      <td>29.609336</td>\n      <td>9.798845e-01</td>\n      <td>18628.717306</td>\n      <td>...</td>\n      <td>19.353420</td>\n      <td>19.055628</td>\n      <td>15.425904</td>\n      <td>22.999128</td>\n      <td>20.503590</td>\n      <td>26.710932</td>\n      <td>23.912758</td>\n      <td>17.683758</td>\n      <td>17.977505</td>\n      <td>30.761436</td>\n    </tr>\n  </tbody>\n</table>\n<p>2 rows × 52 columns</p>\n</div>"
     },
     "execution_count": 27,
     "metadata": {},
     "output_type": "execute_result"
    }
   ],
   "source": [
    "column_intervals = df.describe().loc[['min', 'max']]\n",
    "column_intervals"
   ],
   "metadata": {
    "collapsed": false,
    "ExecuteTime": {
     "end_time": "2023-11-26T21:08:04.029487919Z",
     "start_time": "2023-11-26T21:08:03.936796675Z"
    }
   },
   "id": "77e64c041dd26dc8"
  },
  {
   "cell_type": "code",
   "execution_count": 28,
   "outputs": [
    {
     "name": "stdout",
     "output_type": "stream",
     "text": [
      "chroma_stft          float64\n",
      "chroma_cqt           float64\n",
      "chroma_cens          float64\n",
      "melspectogram        float64\n",
      "rms                  float64\n",
      "centroid             float64\n",
      "bandwidth            float64\n",
      "contrast             float64\n",
      "flatness             float64\n",
      "rolloff              float64\n",
      "crossing_rate        float64\n",
      "tempogram            float64\n",
      "fourier_tempogram     object\n",
      "mcffs_1              float64\n",
      "mcffs_2              float64\n",
      "mcffs_3              float64\n",
      "mcffs_4              float64\n",
      "mcffs_5              float64\n",
      "mcffs_6              float64\n",
      "mcffs_7              float64\n",
      "mcffs_8              float64\n",
      "mcffs_9              float64\n",
      "mcffs_10             float64\n",
      "mcffs_11             float64\n",
      "mcffs_12             float64\n",
      "mcffs_13             float64\n",
      "mcffs_14             float64\n",
      "mcffs_15             float64\n",
      "mcffs_16             float64\n",
      "mcffs_17             float64\n",
      "mcffs_18             float64\n",
      "mcffs_19             float64\n",
      "mcffs_20             float64\n",
      "mcffs_21             float64\n",
      "mcffs_22             float64\n",
      "mcffs_23             float64\n",
      "mcffs_24             float64\n",
      "mcffs_25             float64\n",
      "mcffs_26             float64\n",
      "mcffs_27             float64\n",
      "mcffs_28             float64\n",
      "mcffs_29             float64\n",
      "mcffs_30             float64\n",
      "mcffs_31             float64\n",
      "mcffs_32             float64\n",
      "mcffs_33             float64\n",
      "mcffs_34             float64\n",
      "mcffs_35             float64\n",
      "mcffs_36             float64\n",
      "mcffs_37             float64\n",
      "mcffs_38             float64\n",
      "mcffs_39             float64\n",
      "mcffs_40             float64\n",
      "Label                 object\n",
      "dtype: object\n"
     ]
    }
   ],
   "source": [
    "print(df.dtypes)"
   ],
   "metadata": {
    "collapsed": false,
    "ExecuteTime": {
     "end_time": "2023-11-26T21:08:04.029941903Z",
     "start_time": "2023-11-26T21:08:03.970004061Z"
    }
   },
   "id": "a1dafe2f4d9aa620"
  },
  {
   "cell_type": "code",
   "execution_count": 29,
   "outputs": [
    {
     "data": {
      "text/plain": "chroma_stft          0\nchroma_cqt           0\nchroma_cens          0\nmelspectogram        0\nrms                  0\ncentroid             0\nbandwidth            0\ncontrast             0\nflatness             0\nrolloff              0\ncrossing_rate        0\ntempogram            0\nfourier_tempogram    0\nmcffs_1              0\nmcffs_2              0\nmcffs_3              0\nmcffs_4              0\nmcffs_5              0\nmcffs_6              0\nmcffs_7              0\nmcffs_8              0\nmcffs_9              0\nmcffs_10             0\nmcffs_11             0\nmcffs_12             0\nmcffs_13             0\nmcffs_14             0\nmcffs_15             0\nmcffs_16             0\nmcffs_17             0\nmcffs_18             0\nmcffs_19             0\nmcffs_20             0\nmcffs_21             0\nmcffs_22             0\nmcffs_23             0\nmcffs_24             0\nmcffs_25             0\nmcffs_26             0\nmcffs_27             0\nmcffs_28             0\nmcffs_29             0\nmcffs_30             0\nmcffs_31             0\nmcffs_32             0\nmcffs_33             0\nmcffs_34             0\nmcffs_35             0\nmcffs_36             0\nmcffs_37             0\nmcffs_38             0\nmcffs_39             0\nmcffs_40             0\nLabel                0\ndtype: int64"
     },
     "execution_count": 29,
     "metadata": {},
     "output_type": "execute_result"
    }
   ],
   "source": [
    "df.isnull().sum()"
   ],
   "metadata": {
    "collapsed": false,
    "ExecuteTime": {
     "end_time": "2023-11-26T21:08:04.030367271Z",
     "start_time": "2023-11-26T21:08:03.975227817Z"
    }
   },
   "id": "7f17ffc551c1dce3"
  },
  {
   "cell_type": "markdown",
   "source": [
    "### CNN"
   ],
   "metadata": {
    "collapsed": false
   },
   "id": "663c75bdf6a5be0a"
  },
  {
   "cell_type": "code",
   "execution_count": 30,
   "outputs": [],
   "source": [
    "def calculate_mean_from_string(string):\n",
    "    cleaned_string = string.replace('\\n', '')\n",
    "    numbers = re.findall(r\"[-+]?\\d*\\.\\d+|\\d+\", cleaned_string)\n",
    "    array = np.array(numbers, dtype=float)\n",
    "    mean_value = np.mean(array)\n",
    "    return mean_value\n",
    "\n",
    "\n",
    "for column in df.columns:\n",
    "    if column != 'Label':\n",
    "        if df[column].dtype != float and df[column].dtype != int:\n",
    "            df[column] = df[column].apply(calculate_mean_from_string)\n",
    "    else:\n",
    "        df[column] = df[column].str.split('-').str[1].astype(int)"
   ],
   "metadata": {
    "collapsed": false,
    "ExecuteTime": {
     "end_time": "2023-11-26T21:08:04.094219187Z",
     "start_time": "2023-11-26T21:08:04.015841397Z"
    }
   },
   "id": "2450ac20f61526a9"
  },
  {
   "cell_type": "code",
   "execution_count": 31,
   "outputs": [],
   "source": [
    "# Classification\n",
    "X = df.drop('Label', axis=1)\n",
    "y = df['Label']\n",
    "\n",
    "# Split the data into training and testing sets\n",
    "X_train, X_test, y_train, y_test = train_test_split(X, y, test_size=0.2, random_state=42)"
   ],
   "metadata": {
    "collapsed": false,
    "ExecuteTime": {
     "end_time": "2023-11-26T21:08:04.162574440Z",
     "start_time": "2023-11-26T21:08:04.062795185Z"
    }
   },
   "id": "87f4c4d338266e06"
  },
  {
   "cell_type": "code",
   "execution_count": 32,
   "outputs": [
    {
     "name": "stdout",
     "output_type": "stream",
     "text": [
      "Class distribution before SMOTE:\n",
      "Label\n",
      "9    811\n",
      "5    807\n",
      "2    803\n",
      "4    798\n",
      "7    791\n",
      "0    789\n",
      "3    783\n",
      "8    749\n",
      "1    352\n",
      "6    302\n",
      "Name: count, dtype: int64\n"
     ]
    }
   ],
   "source": [
    "# Print class distribution before SMOTE\n",
    "print(\"Class distribution before SMOTE:\")\n",
    "print(pd.Series(y_train).value_counts())"
   ],
   "metadata": {
    "collapsed": false,
    "ExecuteTime": {
     "end_time": "2023-11-26T21:08:04.163169096Z",
     "start_time": "2023-11-26T21:08:04.104844416Z"
    }
   },
   "id": "4e06e032c7a962d7"
  },
  {
   "cell_type": "code",
   "execution_count": 33,
   "outputs": [],
   "source": [
    "# Oversample the features values using SMOTE\n",
    "smote = SMOTE(random_state=42)\n",
    "X_train_resampled, y_train_resampled = smote.fit_resample(X_train, y_train)"
   ],
   "metadata": {
    "collapsed": false,
    "ExecuteTime": {
     "end_time": "2023-11-26T21:08:04.216351025Z",
     "start_time": "2023-11-26T21:08:04.105054617Z"
    }
   },
   "id": "cc0a62baa727bd6b"
  },
  {
   "cell_type": "code",
   "execution_count": 34,
   "outputs": [
    {
     "name": "stdout",
     "output_type": "stream",
     "text": [
      "\n",
      "Class distribution after SMOTE:\n",
      "Label\n",
      "2    811\n",
      "9    811\n",
      "5    811\n",
      "1    811\n",
      "7    811\n",
      "0    811\n",
      "8    811\n",
      "4    811\n",
      "6    811\n",
      "3    811\n",
      "Name: count, dtype: int64\n"
     ]
    }
   ],
   "source": [
    "# Print class distribution after SMOTE\n",
    "print(\"\\nClass distribution after SMOTE:\")\n",
    "print(pd.Series(y_train_resampled).value_counts())"
   ],
   "metadata": {
    "collapsed": false,
    "ExecuteTime": {
     "end_time": "2023-11-26T21:08:04.216846366Z",
     "start_time": "2023-11-26T21:08:04.122497943Z"
    }
   },
   "id": "6503eca756adae53"
  },
  {
   "cell_type": "code",
   "execution_count": 35,
   "outputs": [],
   "source": [
    "# Standardize the feature values\n",
    "scaler = StandardScaler()\n",
    "X_train_scaled = scaler.fit_transform(X_train_resampled)\n",
    "X_test_scaled = scaler.transform(X_test)"
   ],
   "metadata": {
    "collapsed": false,
    "ExecuteTime": {
     "end_time": "2023-11-26T21:08:04.217265880Z",
     "start_time": "2023-11-26T21:08:04.128689972Z"
    }
   },
   "id": "87a4921e15100e04"
  },
  {
   "cell_type": "code",
   "execution_count": 36,
   "outputs": [],
   "source": [
    "# Encode labels to numerical values\n",
    "label_encoder = LabelEncoder()\n",
    "y_train_encoded = label_encoder.fit_transform(y_train_resampled)\n",
    "y_test_encoded = label_encoder.transform(y_test)"
   ],
   "metadata": {
    "collapsed": false,
    "ExecuteTime": {
     "end_time": "2023-11-26T21:08:04.250502619Z",
     "start_time": "2023-11-26T21:08:04.142997805Z"
    }
   },
   "id": "a63229dea0fa55b3"
  },
  {
   "cell_type": "code",
   "execution_count": 37,
   "outputs": [],
   "source": [
    "# Reshape data for CNN\n",
    "X_train_reshaped = X_train_scaled.reshape((X_train_scaled.shape[0], 1, X_train_scaled.shape[1], 1))\n",
    "X_test_reshaped = X_test_scaled.reshape((X_test_scaled.shape[0], 1, X_test_scaled.shape[1], 1))"
   ],
   "metadata": {
    "collapsed": false,
    "ExecuteTime": {
     "end_time": "2023-11-26T21:08:04.250751785Z",
     "start_time": "2023-11-26T21:08:04.184999438Z"
    }
   },
   "id": "7a12de2fbf201eb1"
  },
  {
   "cell_type": "code",
   "execution_count": 38,
   "outputs": [],
   "source": [
    "# Convert labels to categorical one-hot encoding\n",
    "y_train_onehot = to_categorical(y_train_encoded)\n",
    "y_test_onehot = to_categorical(y_test_encoded)"
   ],
   "metadata": {
    "collapsed": false,
    "ExecuteTime": {
     "end_time": "2023-11-26T21:08:04.250892771Z",
     "start_time": "2023-11-26T21:08:04.185265601Z"
    }
   },
   "id": "e51da823925ddced"
  },
  {
   "cell_type": "code",
   "execution_count": 39,
   "outputs": [
    {
     "ename": "ValueError",
     "evalue": "One of the dimensions in the output is <= 0 due to downsampling in conv2d_1. Consider increasing the input size. Received input shape [None, 1, 53, 1] which would produce output shape with a zero or negative value in a dimension.",
     "output_type": "error",
     "traceback": [
      "\u001B[0;31m---------------------------------------------------------------------------\u001B[0m",
      "\u001B[0;31mValueError\u001B[0m                                Traceback (most recent call last)",
      "Cell \u001B[0;32mIn[39], line 8\u001B[0m\n\u001B[1;32m      5\u001B[0m \u001B[38;5;28;01mfor\u001B[39;00m activation2 \u001B[38;5;129;01min\u001B[39;00m activation_functions:\n\u001B[1;32m      6\u001B[0m     \u001B[38;5;66;03m# Define the CNN model\u001B[39;00m\n\u001B[1;32m      7\u001B[0m     model \u001B[38;5;241m=\u001B[39m Sequential()\n\u001B[0;32m----> 8\u001B[0m     \u001B[43mmodel\u001B[49m\u001B[38;5;241;43m.\u001B[39;49m\u001B[43madd\u001B[49m\u001B[43m(\u001B[49m\u001B[43mConv2D\u001B[49m\u001B[43m(\u001B[49m\u001B[38;5;241;43m32\u001B[39;49m\u001B[43m,\u001B[49m\u001B[43m \u001B[49m\u001B[43m(\u001B[49m\u001B[38;5;241;43m3\u001B[39;49m\u001B[43m,\u001B[49m\u001B[43m \u001B[49m\u001B[38;5;241;43m3\u001B[39;49m\u001B[43m)\u001B[49m\u001B[43m,\u001B[49m\u001B[43m \u001B[49m\u001B[43mactivation\u001B[49m\u001B[38;5;241;43m=\u001B[39;49m\u001B[38;5;124;43m'\u001B[39;49m\u001B[38;5;124;43mrelu\u001B[39;49m\u001B[38;5;124;43m'\u001B[39;49m\u001B[43m,\u001B[49m\u001B[43m \u001B[49m\u001B[43minput_shape\u001B[49m\u001B[38;5;241;43m=\u001B[39;49m\u001B[43m(\u001B[49m\u001B[38;5;241;43m1\u001B[39;49m\u001B[43m,\u001B[49m\u001B[43m \u001B[49m\u001B[43mX_train_scaled\u001B[49m\u001B[38;5;241;43m.\u001B[39;49m\u001B[43mshape\u001B[49m\u001B[43m[\u001B[49m\u001B[38;5;241;43m1\u001B[39;49m\u001B[43m]\u001B[49m\u001B[43m,\u001B[49m\u001B[43m \u001B[49m\u001B[38;5;241;43m1\u001B[39;49m\u001B[43m)\u001B[49m\u001B[43m)\u001B[49m\u001B[43m)\u001B[49m\n\u001B[1;32m      9\u001B[0m     model\u001B[38;5;241m.\u001B[39madd(MaxPooling2D((\u001B[38;5;241m2\u001B[39m, \u001B[38;5;241m2\u001B[39m)))\n\u001B[1;32m     10\u001B[0m     model\u001B[38;5;241m.\u001B[39madd(Conv2D(\u001B[38;5;241m64\u001B[39m, (\u001B[38;5;241m3\u001B[39m, \u001B[38;5;241m3\u001B[39m), activation\u001B[38;5;241m=\u001B[39mactivation1))\n",
      "File \u001B[0;32m~/.local/lib/python3.11/site-packages/tensorflow/python/trackable/base.py:204\u001B[0m, in \u001B[0;36mno_automatic_dependency_tracking.<locals>._method_wrapper\u001B[0;34m(self, *args, **kwargs)\u001B[0m\n\u001B[1;32m    202\u001B[0m \u001B[38;5;28mself\u001B[39m\u001B[38;5;241m.\u001B[39m_self_setattr_tracking \u001B[38;5;241m=\u001B[39m \u001B[38;5;28;01mFalse\u001B[39;00m  \u001B[38;5;66;03m# pylint: disable=protected-access\u001B[39;00m\n\u001B[1;32m    203\u001B[0m \u001B[38;5;28;01mtry\u001B[39;00m:\n\u001B[0;32m--> 204\u001B[0m   result \u001B[38;5;241m=\u001B[39m \u001B[43mmethod\u001B[49m\u001B[43m(\u001B[49m\u001B[38;5;28;43mself\u001B[39;49m\u001B[43m,\u001B[49m\u001B[43m \u001B[49m\u001B[38;5;241;43m*\u001B[39;49m\u001B[43margs\u001B[49m\u001B[43m,\u001B[49m\u001B[43m \u001B[49m\u001B[38;5;241;43m*\u001B[39;49m\u001B[38;5;241;43m*\u001B[39;49m\u001B[43mkwargs\u001B[49m\u001B[43m)\u001B[49m\n\u001B[1;32m    205\u001B[0m \u001B[38;5;28;01mfinally\u001B[39;00m:\n\u001B[1;32m    206\u001B[0m   \u001B[38;5;28mself\u001B[39m\u001B[38;5;241m.\u001B[39m_self_setattr_tracking \u001B[38;5;241m=\u001B[39m previous_value  \u001B[38;5;66;03m# pylint: disable=protected-access\u001B[39;00m\n",
      "File \u001B[0;32m~/.local/lib/python3.11/site-packages/keras/src/utils/traceback_utils.py:70\u001B[0m, in \u001B[0;36mfilter_traceback.<locals>.error_handler\u001B[0;34m(*args, **kwargs)\u001B[0m\n\u001B[1;32m     67\u001B[0m     filtered_tb \u001B[38;5;241m=\u001B[39m _process_traceback_frames(e\u001B[38;5;241m.\u001B[39m__traceback__)\n\u001B[1;32m     68\u001B[0m     \u001B[38;5;66;03m# To get the full stack trace, call:\u001B[39;00m\n\u001B[1;32m     69\u001B[0m     \u001B[38;5;66;03m# `tf.debugging.disable_traceback_filtering()`\u001B[39;00m\n\u001B[0;32m---> 70\u001B[0m     \u001B[38;5;28;01mraise\u001B[39;00m e\u001B[38;5;241m.\u001B[39mwith_traceback(filtered_tb) \u001B[38;5;28;01mfrom\u001B[39;00m \u001B[38;5;28;01mNone\u001B[39;00m\n\u001B[1;32m     71\u001B[0m \u001B[38;5;28;01mfinally\u001B[39;00m:\n\u001B[1;32m     72\u001B[0m     \u001B[38;5;28;01mdel\u001B[39;00m filtered_tb\n",
      "File \u001B[0;32m~/.local/lib/python3.11/site-packages/keras/src/layers/convolutional/base_conv.py:354\u001B[0m, in \u001B[0;36mConv.compute_output_shape\u001B[0;34m(self, input_shape)\u001B[0m\n\u001B[1;32m    347\u001B[0m         \u001B[38;5;28;01mreturn\u001B[39;00m tf\u001B[38;5;241m.\u001B[39mTensorShape(\n\u001B[1;32m    348\u001B[0m             input_shape[:batch_rank]\n\u001B[1;32m    349\u001B[0m             \u001B[38;5;241m+\u001B[39m [\u001B[38;5;28mself\u001B[39m\u001B[38;5;241m.\u001B[39mfilters]\n\u001B[1;32m    350\u001B[0m             \u001B[38;5;241m+\u001B[39m \u001B[38;5;28mself\u001B[39m\u001B[38;5;241m.\u001B[39m_spatial_output_shape(input_shape[batch_rank \u001B[38;5;241m+\u001B[39m \u001B[38;5;241m1\u001B[39m :])\n\u001B[1;32m    351\u001B[0m         )\n\u001B[1;32m    353\u001B[0m \u001B[38;5;28;01mexcept\u001B[39;00m \u001B[38;5;167;01mValueError\u001B[39;00m:\n\u001B[0;32m--> 354\u001B[0m     \u001B[38;5;28;01mraise\u001B[39;00m \u001B[38;5;167;01mValueError\u001B[39;00m(\n\u001B[1;32m    355\u001B[0m         \u001B[38;5;124m\"\u001B[39m\u001B[38;5;124mOne of the dimensions in the output is <= 0 \u001B[39m\u001B[38;5;124m\"\u001B[39m\n\u001B[1;32m    356\u001B[0m         \u001B[38;5;124mf\u001B[39m\u001B[38;5;124m\"\u001B[39m\u001B[38;5;124mdue to downsampling in \u001B[39m\u001B[38;5;132;01m{\u001B[39;00m\u001B[38;5;28mself\u001B[39m\u001B[38;5;241m.\u001B[39mname\u001B[38;5;132;01m}\u001B[39;00m\u001B[38;5;124m. Consider \u001B[39m\u001B[38;5;124m\"\u001B[39m\n\u001B[1;32m    357\u001B[0m         \u001B[38;5;124m\"\u001B[39m\u001B[38;5;124mincreasing the input size. \u001B[39m\u001B[38;5;124m\"\u001B[39m\n\u001B[1;32m    358\u001B[0m         \u001B[38;5;124mf\u001B[39m\u001B[38;5;124m\"\u001B[39m\u001B[38;5;124mReceived input shape \u001B[39m\u001B[38;5;132;01m{\u001B[39;00minput_shape\u001B[38;5;132;01m}\u001B[39;00m\u001B[38;5;124m which would produce \u001B[39m\u001B[38;5;124m\"\u001B[39m\n\u001B[1;32m    359\u001B[0m         \u001B[38;5;124m\"\u001B[39m\u001B[38;5;124moutput shape with a zero or negative value in a \u001B[39m\u001B[38;5;124m\"\u001B[39m\n\u001B[1;32m    360\u001B[0m         \u001B[38;5;124m\"\u001B[39m\u001B[38;5;124mdimension.\u001B[39m\u001B[38;5;124m\"\u001B[39m\n\u001B[1;32m    361\u001B[0m     )\n",
      "\u001B[0;31mValueError\u001B[0m: One of the dimensions in the output is <= 0 due to downsampling in conv2d_1. Consider increasing the input size. Received input shape [None, 1, 53, 1] which would produce output shape with a zero or negative value in a dimension."
     ]
    }
   ],
   "source": [
    "# Define the CNN model with different activation functions for hidden layers\n",
    "activation_functions = ['relu', 'sigmoid']\n",
    "\n",
    "for activation1 in activation_functions:\n",
    "    for activation2 in activation_functions:\n",
    "        # Define the CNN model\n",
    "        model = Sequential()\n",
    "        model.add(Conv2D(32, (3, 3), activation='relu', input_shape=(1, X_train_scaled.shape[1], 1)))\n",
    "        model.add(MaxPooling2D((2, 2)))\n",
    "        model.add(Conv2D(64, (3, 3), activation=activation1))\n",
    "        model.add(MaxPooling2D((2, 2)))\n",
    "        model.add(Conv2D(64, (3, 3), activation=activation2))\n",
    "        model.add(Flatten())\n",
    "        model.add(Dense(64, activation=activation1))\n",
    "        model.add(Dense(y_train_onehot.shape[1], activation='sigmoid'))  # Sigmoid for the output layer"
   ],
   "metadata": {
    "collapsed": false,
    "ExecuteTime": {
     "end_time": "2023-11-26T21:08:04.252262125Z",
     "start_time": "2023-11-26T21:08:04.185442363Z"
    }
   },
   "id": "fb36befdf54f12ee"
  },
  {
   "cell_type": "code",
   "execution_count": null,
   "outputs": [],
   "source": [
    "# Compile the model\n",
    "model.compile(optimizer='adam', loss='categorical_crossentropy', metrics=['accuracy'])"
   ],
   "metadata": {
    "collapsed": false,
    "ExecuteTime": {
     "start_time": "2023-11-26T21:08:04.209106917Z"
    }
   },
   "id": "746acb5444326ea9"
  },
  {
   "cell_type": "code",
   "execution_count": null,
   "outputs": [],
   "source": [
    "# Train the model\n",
    "model.fit(X_train_reshaped, y_train_onehot, epochs=10, validation_split=0.2)"
   ],
   "metadata": {
    "collapsed": false,
    "ExecuteTime": {
     "start_time": "2023-11-26T21:08:04.249918722Z"
    }
   },
   "id": "81b7d2afdfae11cb"
  },
  {
   "cell_type": "code",
   "execution_count": null,
   "outputs": [],
   "source": [
    "# Evaluate the model on the test set\n",
    "test_loss, test_acc = model.evaluate(X_test_reshaped, y_test_onehot)\n",
    "print(f'Test accuracy: {test_acc}')"
   ],
   "metadata": {
    "collapsed": false,
    "ExecuteTime": {
     "start_time": "2023-11-26T21:08:04.250172740Z"
    }
   },
   "id": "c0f5b3a761af5583"
  },
  {
   "cell_type": "code",
   "execution_count": null,
   "outputs": [],
   "source": [
    "\n"
   ],
   "metadata": {
    "collapsed": false,
    "ExecuteTime": {
     "start_time": "2023-11-26T21:08:04.250275661Z"
    }
   },
   "id": "327022b212d766f9"
  },
  {
   "cell_type": "code",
   "execution_count": null,
   "outputs": [],
   "source": [],
   "metadata": {
    "collapsed": false,
    "ExecuteTime": {
     "start_time": "2023-11-26T21:08:04.250353446Z"
    }
   },
   "id": "c48969641986cfce"
  }
 ],
 "metadata": {
  "kernelspec": {
   "display_name": "Python 3",
   "language": "python",
   "name": "python3"
  },
  "language_info": {
   "codemirror_mode": {
    "name": "ipython",
    "version": 2
   },
   "file_extension": ".py",
   "mimetype": "text/x-python",
   "name": "python",
   "nbconvert_exporter": "python",
   "pygments_lexer": "ipython2",
   "version": "2.7.6"
  }
 },
 "nbformat": 4,
 "nbformat_minor": 5
}
