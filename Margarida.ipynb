{
 "cells": [
  {
   "cell_type": "code",
   "execution_count": 35,
   "outputs": [],
   "source": [
    "import pandas as pd"
   ],
   "metadata": {
    "collapsed": false,
    "ExecuteTime": {
     "end_time": "2023-11-23T20:03:30.865614852Z",
     "start_time": "2023-11-23T20:03:30.863595324Z"
    }
   },
   "id": "7fcaa2d03adc38e9"
  },
  {
   "cell_type": "code",
   "execution_count": 36,
   "outputs": [],
   "source": [
    "df = pd.read_csv('urbansounds_features.csv')"
   ],
   "metadata": {
    "collapsed": false,
    "ExecuteTime": {
     "end_time": "2023-11-23T20:03:31.580849269Z",
     "start_time": "2023-11-23T20:03:31.422185057Z"
    }
   },
   "id": "635a411d82634d8a"
  },
  {
   "cell_type": "code",
   "execution_count": 37,
   "outputs": [
    {
     "name": "stdout",
     "output_type": "stream",
     "text": [
      "   chroma_stft  chroma_cqt  chroma_cens  melspectogram       rms     centroid  \\\n",
      "0     0.640295    0.745688     0.284223       1.256437  0.073593  1292.355561   \n",
      "1     0.417256    0.601146     0.280195       3.291951  0.108715  2748.016622   \n",
      "2     0.397634    0.561946     0.270126       2.221180  0.096742  1850.227016   \n",
      "3     0.453350    0.540180     0.274063       0.034680  0.011608  1667.418114   \n",
      "4     0.419926    0.583685     0.276122       2.758679  0.069048  2389.050124   \n",
      "\n",
      "     bandwidth   contrast  flatness      rolloff  ...  mcffs_32  mcffs_33  \\\n",
      "0  1521.064554  21.011303  0.002814  2558.156978  ...  2.247787 -4.438743   \n",
      "1  3053.747190  21.718229  0.018973  6838.907972  ... -0.566611 -4.938219   \n",
      "2  2287.224210  19.870660  0.012228  4023.970658  ... -0.574458 -7.801946   \n",
      "3  2069.784880  18.895311  0.009497  3313.623894  ... -2.907339 -4.239169   \n",
      "4  2226.161005  20.386691  0.026576  4390.968631  ... -3.065629 -2.271313   \n",
      "\n",
      "   mcffs_34  mcffs_35  mcffs_36  mcffs_37   mcffs_38   mcffs_39  mcffs_40  \\\n",
      "0  0.882370 -6.581868  2.293382  0.837258  -1.253234  -1.361196 -0.705794   \n",
      "1 -2.024901  1.768450 -2.024916 -5.591768  11.809702 -11.009739  7.635576   \n",
      "2 -1.866518 -5.120268 -0.133884 -6.454444  -2.458381  -2.542686 -0.177971   \n",
      "3 -0.754116 -5.397234 -2.596342 -3.698347   0.392087  -3.220633 -0.938865   \n",
      "4  1.429065 -0.191305 -1.307874 -2.713152  -1.717334  -4.043963 -0.242079   \n",
      "\n",
      "   Label  \n",
      "0      7  \n",
      "1      9  \n",
      "2      7  \n",
      "3      8  \n",
      "4      3  \n",
      "\n",
      "[5 rows x 54 columns]\n"
     ]
    }
   ],
   "source": [
    "# Replace the 'Label' column with the extracted value\n",
    "df['Label'] = df['Label'].str.split('-').str[1]\n",
    "\n",
    "# Save the DataFrame to a new CSV file if needed\n",
    "df.to_csv('urbanfeatures_updated.csv', index=False)\n",
    "\n",
    "# Read the updated CSV file into a new DataFrame\n",
    "df_updated = pd.read_csv('urbanfeatures_updated.csv')\n",
    "\n",
    "# Display the first few rows of the updated DataFrame\n",
    "print(df_updated.head())"
   ],
   "metadata": {
    "collapsed": false,
    "ExecuteTime": {
     "end_time": "2023-11-23T20:03:33.000427779Z",
     "start_time": "2023-11-23T20:03:32.341753085Z"
    }
   },
   "id": "9c571f6000a482a"
  },
  {
   "cell_type": "code",
   "execution_count": null,
   "outputs": [],
   "source": [],
   "metadata": {
    "collapsed": false
   },
   "id": "5fef386eda8d7fed"
  }
 ],
 "metadata": {
  "kernelspec": {
   "display_name": "Python 3",
   "language": "python",
   "name": "python3"
  },
  "language_info": {
   "codemirror_mode": {
    "name": "ipython",
    "version": 2
   },
   "file_extension": ".py",
   "mimetype": "text/x-python",
   "name": "python",
   "nbconvert_exporter": "python",
   "pygments_lexer": "ipython2",
   "version": "2.7.6"
  }
 },
 "nbformat": 4,
 "nbformat_minor": 5
}
